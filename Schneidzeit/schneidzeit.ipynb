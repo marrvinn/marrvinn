{
  "nbformat": 4,
  "nbformat_minor": 0,
  "metadata": {
    "colab": {
      "name": "schneidzeit.ipynb",
      "provenance": [],
      "collapsed_sections": [
        "40QUUW_dR-D3"
      ],
      "authorship_tag": "ABX9TyOOgDTc0cRRgPyaKOxqfnNZ",
      "include_colab_link": true
    },
    "kernelspec": {
      "name": "python3",
      "display_name": "Python 3"
    },
    "language_info": {
      "name": "python"
    }
  },
  "cells": [
    {
      "cell_type": "markdown",
      "metadata": {
        "id": "view-in-github",
        "colab_type": "text"
      },
      "source": [
        "<a href=\"https://colab.research.google.com/github/marrvinn/marrvinn/blob/main/Schneidzeit/schneidzeit.ipynb\" target=\"_parent\"><img src=\"https://colab.research.google.com/assets/colab-badge.svg\" alt=\"Open In Colab\"/></a>"
      ]
    },
    {
      "cell_type": "markdown",
      "source": [
        "# Start"
      ],
      "metadata": {
        "id": "K07kRgdaC8KI"
      }
    },
    {
      "cell_type": "code",
      "source": [
        "import pandas as pd\n",
        "import numpy as np"
      ],
      "metadata": {
        "id": "oCCq2DijDEa5"
      },
      "execution_count": null,
      "outputs": []
    },
    {
      "cell_type": "code",
      "source": [
        "from google.colab import drive\n",
        "drive.mount('/content/drive')"
      ],
      "metadata": {
        "colab": {
          "base_uri": "https://localhost:8080/"
        },
        "id": "z7gWWmZmDA30",
        "outputId": "79573b74-a2bd-489d-9cc3-211ff53d2ef9"
      },
      "execution_count": null,
      "outputs": [
        {
          "output_type": "stream",
          "name": "stdout",
          "text": [
            "Drive already mounted at /content/drive; to attempt to forcibly remount, call drive.mount(\"/content/drive\", force_remount=True).\n"
          ]
        }
      ]
    },
    {
      "cell_type": "code",
      "execution_count": null,
      "metadata": {
        "id": "tCYafRunBrrC"
      },
      "outputs": [],
      "source": [
        "data_path = r'/content/drive/MyDrive/PJS/01_Input/Daten/Baseline_Daten/Rawr.csv'"
      ]
    },
    {
      "cell_type": "code",
      "source": [
        "df = pd.read_csv(data_path, index_col=0)"
      ],
      "metadata": {
        "id": "48TPBOqJDnei"
      },
      "execution_count": null,
      "outputs": []
    },
    {
      "cell_type": "code",
      "source": [
        "df"
      ],
      "metadata": {
        "colab": {
          "base_uri": "https://localhost:8080/",
          "height": 487
        },
        "id": "FPAocOShK4YS",
        "outputId": "b9bf4241-8421-4d01-ebe8-0f8923ad739f"
      },
      "execution_count": null,
      "outputs": [
        {
          "output_type": "execute_result",
          "data": {
            "text/html": [
              "\n",
              "  <div id=\"df-6570658a-3e77-43f7-89f4-4eb0c943b289\">\n",
              "    <div class=\"colab-df-container\">\n",
              "      <div>\n",
              "<style scoped>\n",
              "    .dataframe tbody tr th:only-of-type {\n",
              "        vertical-align: middle;\n",
              "    }\n",
              "\n",
              "    .dataframe tbody tr th {\n",
              "        vertical-align: top;\n",
              "    }\n",
              "\n",
              "    .dataframe thead th {\n",
              "        text-align: right;\n",
              "    }\n",
              "</style>\n",
              "<table border=\"1\" class=\"dataframe\">\n",
              "  <thead>\n",
              "    <tr style=\"text-align: right;\">\n",
              "      <th></th>\n",
              "      <th>x_Links</th>\n",
              "      <th>x_Rechts</th>\n",
              "      <th>y_Unten</th>\n",
              "      <th>y_Oben</th>\n",
              "      <th>X_sheetsize</th>\n",
              "      <th>Y_sheetsize</th>\n",
              "      <th>BSig</th>\n",
              "      <th>MarBot</th>\n",
              "      <th>MarLeft</th>\n",
              "      <th>MarRight</th>\n",
              "      <th>MarTop</th>\n",
              "      <th>Orient</th>\n",
              "      <th>JobID</th>\n",
              "      <th>ProjectID</th>\n",
              "      <th>DocName</th>\n",
              "      <th>ZeitDauer</th>\n",
              "      <th>Leistung</th>\n",
              "      <th>Menge</th>\n",
              "      <th>Schneidzeit</th>\n",
              "    </tr>\n",
              "  </thead>\n",
              "  <tbody>\n",
              "    <tr>\n",
              "      <th>0</th>\n",
              "      <td>1244.409449</td>\n",
              "      <td>2454.803150</td>\n",
              "      <td>34.015748</td>\n",
              "      <td>1751.811024</td>\n",
              "      <td>2494.488189</td>\n",
              "      <td>1785.826772</td>\n",
              "      <td>B1</td>\n",
              "      <td>2.834646</td>\n",
              "      <td>2.834646</td>\n",
              "      <td>2.834646</td>\n",
              "      <td>2.834646</td>\n",
              "      <td>Rotate0</td>\n",
              "      <td>6510615901</td>\n",
              "      <td>65106159</td>\n",
              "      <td>6510615901_0</td>\n",
              "      <td>0.2717</td>\n",
              "      <td>9201.0</td>\n",
              "      <td>2500.0</td>\n",
              "      <td>0.2717</td>\n",
              "    </tr>\n",
              "    <tr>\n",
              "      <th>1</th>\n",
              "      <td>39.685039</td>\n",
              "      <td>1250.078740</td>\n",
              "      <td>34.015748</td>\n",
              "      <td>1751.811024</td>\n",
              "      <td>2494.488189</td>\n",
              "      <td>1785.826772</td>\n",
              "      <td>A1</td>\n",
              "      <td>2.834646</td>\n",
              "      <td>2.834646</td>\n",
              "      <td>2.834646</td>\n",
              "      <td>2.834646</td>\n",
              "      <td>Rotate0</td>\n",
              "      <td>6510615901</td>\n",
              "      <td>65106159</td>\n",
              "      <td>6510615901_1</td>\n",
              "      <td>0.2717</td>\n",
              "      <td>9201.0</td>\n",
              "      <td>2500.0</td>\n",
              "      <td>0.2717</td>\n",
              "    </tr>\n",
              "    <tr>\n",
              "      <th>2</th>\n",
              "      <td>25.511811</td>\n",
              "      <td>1250.078740</td>\n",
              "      <td>12.755905</td>\n",
              "      <td>1761.732284</td>\n",
              "      <td>2494.488189</td>\n",
              "      <td>1785.826772</td>\n",
              "      <td>B2</td>\n",
              "      <td>2.834646</td>\n",
              "      <td>2.834646</td>\n",
              "      <td>2.834646</td>\n",
              "      <td>2.834646</td>\n",
              "      <td>Rotate0</td>\n",
              "      <td>6510729103</td>\n",
              "      <td>65107291</td>\n",
              "      <td>6510729103_0</td>\n",
              "      <td>0.3094</td>\n",
              "      <td>12928.0</td>\n",
              "      <td>4000.0</td>\n",
              "      <td>0.3094</td>\n",
              "    </tr>\n",
              "    <tr>\n",
              "      <th>3</th>\n",
              "      <td>1244.409449</td>\n",
              "      <td>2468.976378</td>\n",
              "      <td>12.755905</td>\n",
              "      <td>1761.732284</td>\n",
              "      <td>2494.488189</td>\n",
              "      <td>1785.826772</td>\n",
              "      <td>B3</td>\n",
              "      <td>2.834646</td>\n",
              "      <td>2.834646</td>\n",
              "      <td>2.834646</td>\n",
              "      <td>2.834646</td>\n",
              "      <td>Rotate0</td>\n",
              "      <td>6510729103</td>\n",
              "      <td>65107291</td>\n",
              "      <td>6510729103_1</td>\n",
              "      <td>0.3094</td>\n",
              "      <td>12928.0</td>\n",
              "      <td>4000.0</td>\n",
              "      <td>0.3094</td>\n",
              "    </tr>\n",
              "    <tr>\n",
              "      <th>4</th>\n",
              "      <td>48.188976</td>\n",
              "      <td>649.133858</td>\n",
              "      <td>888.661417</td>\n",
              "      <td>1170.708661</td>\n",
              "      <td>2494.488189</td>\n",
              "      <td>1785.826772</td>\n",
              "      <td>P</td>\n",
              "      <td>2.834646</td>\n",
              "      <td>2.834646</td>\n",
              "      <td>2.834646</td>\n",
              "      <td>2.834646</td>\n",
              "      <td>Rotate0</td>\n",
              "      <td>6510729105</td>\n",
              "      <td>65107291</td>\n",
              "      <td>6510729105_0</td>\n",
              "      <td>0.6460</td>\n",
              "      <td>4644.0</td>\n",
              "      <td>3000.0</td>\n",
              "      <td>0.6460</td>\n",
              "    </tr>\n",
              "    <tr>\n",
              "      <th>...</th>\n",
              "      <td>...</td>\n",
              "      <td>...</td>\n",
              "      <td>...</td>\n",
              "      <td>...</td>\n",
              "      <td>...</td>\n",
              "      <td>...</td>\n",
              "      <td>...</td>\n",
              "      <td>...</td>\n",
              "      <td>...</td>\n",
              "      <td>...</td>\n",
              "      <td>...</td>\n",
              "      <td>...</td>\n",
              "      <td>...</td>\n",
              "      <td>...</td>\n",
              "      <td>...</td>\n",
              "      <td>...</td>\n",
              "      <td>...</td>\n",
              "      <td>...</td>\n",
              "      <td>...</td>\n",
              "    </tr>\n",
              "    <tr>\n",
              "      <th>505</th>\n",
              "      <td>634.960630</td>\n",
              "      <td>1250.078740</td>\n",
              "      <td>39.685039</td>\n",
              "      <td>895.748032</td>\n",
              "      <td>2494.488189</td>\n",
              "      <td>1785.826772</td>\n",
              "      <td>N5</td>\n",
              "      <td>2.834646</td>\n",
              "      <td>2.834646</td>\n",
              "      <td>2.834646</td>\n",
              "      <td>2.834646</td>\n",
              "      <td>Rotate0</td>\n",
              "      <td>6513087310</td>\n",
              "      <td>65130873</td>\n",
              "      <td>6513087310_5</td>\n",
              "      <td>0.0812</td>\n",
              "      <td>3079.0</td>\n",
              "      <td>250.0</td>\n",
              "      <td>0.0812</td>\n",
              "    </tr>\n",
              "    <tr>\n",
              "      <th>506</th>\n",
              "      <td>1853.858268</td>\n",
              "      <td>2468.976378</td>\n",
              "      <td>890.078740</td>\n",
              "      <td>1746.141732</td>\n",
              "      <td>2494.488189</td>\n",
              "      <td>1785.826772</td>\n",
              "      <td>N6</td>\n",
              "      <td>2.834646</td>\n",
              "      <td>2.834646</td>\n",
              "      <td>2.834646</td>\n",
              "      <td>2.834646</td>\n",
              "      <td>Rotate0</td>\n",
              "      <td>6513087310</td>\n",
              "      <td>65130873</td>\n",
              "      <td>6513087310_6</td>\n",
              "      <td>0.0812</td>\n",
              "      <td>3079.0</td>\n",
              "      <td>250.0</td>\n",
              "      <td>0.0812</td>\n",
              "    </tr>\n",
              "    <tr>\n",
              "      <th>507</th>\n",
              "      <td>29.055118</td>\n",
              "      <td>1260.708661</td>\n",
              "      <td>34.015748</td>\n",
              "      <td>1751.811024</td>\n",
              "      <td>2494.488189</td>\n",
              "      <td>1785.826772</td>\n",
              "      <td>I2</td>\n",
              "      <td>2.834646</td>\n",
              "      <td>2.834646</td>\n",
              "      <td>2.834646</td>\n",
              "      <td>2.834646</td>\n",
              "      <td>Rotate0</td>\n",
              "      <td>6512513024</td>\n",
              "      <td>65125130</td>\n",
              "      <td>6512513024_0</td>\n",
              "      <td>0.1000</td>\n",
              "      <td>1000.0</td>\n",
              "      <td>100.0</td>\n",
              "      <td>0.1000</td>\n",
              "    </tr>\n",
              "    <tr>\n",
              "      <th>508</th>\n",
              "      <td>1255.039370</td>\n",
              "      <td>2465.433071</td>\n",
              "      <td>34.015748</td>\n",
              "      <td>895.748032</td>\n",
              "      <td>2494.488189</td>\n",
              "      <td>1785.826772</td>\n",
              "      <td>J2</td>\n",
              "      <td>2.834646</td>\n",
              "      <td>2.834646</td>\n",
              "      <td>2.834646</td>\n",
              "      <td>2.834646</td>\n",
              "      <td>Rotate0</td>\n",
              "      <td>6512513024</td>\n",
              "      <td>65125130</td>\n",
              "      <td>6512513024_1</td>\n",
              "      <td>0.1000</td>\n",
              "      <td>1000.0</td>\n",
              "      <td>100.0</td>\n",
              "      <td>0.1000</td>\n",
              "    </tr>\n",
              "    <tr>\n",
              "      <th>509</th>\n",
              "      <td>1255.039370</td>\n",
              "      <td>2465.433071</td>\n",
              "      <td>890.078740</td>\n",
              "      <td>1751.811024</td>\n",
              "      <td>2494.488189</td>\n",
              "      <td>1785.826772</td>\n",
              "      <td>K2</td>\n",
              "      <td>2.834646</td>\n",
              "      <td>2.834646</td>\n",
              "      <td>2.834646</td>\n",
              "      <td>2.834646</td>\n",
              "      <td>Rotate0</td>\n",
              "      <td>6512513024</td>\n",
              "      <td>65125130</td>\n",
              "      <td>6512513024_2</td>\n",
              "      <td>0.1000</td>\n",
              "      <td>1000.0</td>\n",
              "      <td>100.0</td>\n",
              "      <td>0.1000</td>\n",
              "    </tr>\n",
              "  </tbody>\n",
              "</table>\n",
              "<p>510 rows × 19 columns</p>\n",
              "</div>\n",
              "      <button class=\"colab-df-convert\" onclick=\"convertToInteractive('df-6570658a-3e77-43f7-89f4-4eb0c943b289')\"\n",
              "              title=\"Convert this dataframe to an interactive table.\"\n",
              "              style=\"display:none;\">\n",
              "        \n",
              "  <svg xmlns=\"http://www.w3.org/2000/svg\" height=\"24px\"viewBox=\"0 0 24 24\"\n",
              "       width=\"24px\">\n",
              "    <path d=\"M0 0h24v24H0V0z\" fill=\"none\"/>\n",
              "    <path d=\"M18.56 5.44l.94 2.06.94-2.06 2.06-.94-2.06-.94-.94-2.06-.94 2.06-2.06.94zm-11 1L8.5 8.5l.94-2.06 2.06-.94-2.06-.94L8.5 2.5l-.94 2.06-2.06.94zm10 10l.94 2.06.94-2.06 2.06-.94-2.06-.94-.94-2.06-.94 2.06-2.06.94z\"/><path d=\"M17.41 7.96l-1.37-1.37c-.4-.4-.92-.59-1.43-.59-.52 0-1.04.2-1.43.59L10.3 9.45l-7.72 7.72c-.78.78-.78 2.05 0 2.83L4 21.41c.39.39.9.59 1.41.59.51 0 1.02-.2 1.41-.59l7.78-7.78 2.81-2.81c.8-.78.8-2.07 0-2.86zM5.41 20L4 18.59l7.72-7.72 1.47 1.35L5.41 20z\"/>\n",
              "  </svg>\n",
              "      </button>\n",
              "      \n",
              "  <style>\n",
              "    .colab-df-container {\n",
              "      display:flex;\n",
              "      flex-wrap:wrap;\n",
              "      gap: 12px;\n",
              "    }\n",
              "\n",
              "    .colab-df-convert {\n",
              "      background-color: #E8F0FE;\n",
              "      border: none;\n",
              "      border-radius: 50%;\n",
              "      cursor: pointer;\n",
              "      display: none;\n",
              "      fill: #1967D2;\n",
              "      height: 32px;\n",
              "      padding: 0 0 0 0;\n",
              "      width: 32px;\n",
              "    }\n",
              "\n",
              "    .colab-df-convert:hover {\n",
              "      background-color: #E2EBFA;\n",
              "      box-shadow: 0px 1px 2px rgba(60, 64, 67, 0.3), 0px 1px 3px 1px rgba(60, 64, 67, 0.15);\n",
              "      fill: #174EA6;\n",
              "    }\n",
              "\n",
              "    [theme=dark] .colab-df-convert {\n",
              "      background-color: #3B4455;\n",
              "      fill: #D2E3FC;\n",
              "    }\n",
              "\n",
              "    [theme=dark] .colab-df-convert:hover {\n",
              "      background-color: #434B5C;\n",
              "      box-shadow: 0px 1px 3px 1px rgba(0, 0, 0, 0.15);\n",
              "      filter: drop-shadow(0px 1px 2px rgba(0, 0, 0, 0.3));\n",
              "      fill: #FFFFFF;\n",
              "    }\n",
              "  </style>\n",
              "\n",
              "      <script>\n",
              "        const buttonEl =\n",
              "          document.querySelector('#df-6570658a-3e77-43f7-89f4-4eb0c943b289 button.colab-df-convert');\n",
              "        buttonEl.style.display =\n",
              "          google.colab.kernel.accessAllowed ? 'block' : 'none';\n",
              "\n",
              "        async function convertToInteractive(key) {\n",
              "          const element = document.querySelector('#df-6570658a-3e77-43f7-89f4-4eb0c943b289');\n",
              "          const dataTable =\n",
              "            await google.colab.kernel.invokeFunction('convertToInteractive',\n",
              "                                                     [key], {});\n",
              "          if (!dataTable) return;\n",
              "\n",
              "          const docLinkHtml = 'Like what you see? Visit the ' +\n",
              "            '<a target=\"_blank\" href=https://colab.research.google.com/notebooks/data_table.ipynb>data table notebook</a>'\n",
              "            + ' to learn more about interactive tables.';\n",
              "          element.innerHTML = '';\n",
              "          dataTable['output_type'] = 'display_data';\n",
              "          await google.colab.output.renderOutput(dataTable, element);\n",
              "          const docLink = document.createElement('div');\n",
              "          docLink.innerHTML = docLinkHtml;\n",
              "          element.appendChild(docLink);\n",
              "        }\n",
              "      </script>\n",
              "    </div>\n",
              "  </div>\n",
              "  "
            ],
            "text/plain": [
              "         x_Links     x_Rechts     y_Unten  ...  Leistung   Menge  Schneidzeit\n",
              "0    1244.409449  2454.803150   34.015748  ...    9201.0  2500.0       0.2717\n",
              "1      39.685039  1250.078740   34.015748  ...    9201.0  2500.0       0.2717\n",
              "2      25.511811  1250.078740   12.755905  ...   12928.0  4000.0       0.3094\n",
              "3    1244.409449  2468.976378   12.755905  ...   12928.0  4000.0       0.3094\n",
              "4      48.188976   649.133858  888.661417  ...    4644.0  3000.0       0.6460\n",
              "..           ...          ...         ...  ...       ...     ...          ...\n",
              "505   634.960630  1250.078740   39.685039  ...    3079.0   250.0       0.0812\n",
              "506  1853.858268  2468.976378  890.078740  ...    3079.0   250.0       0.0812\n",
              "507    29.055118  1260.708661   34.015748  ...    1000.0   100.0       0.1000\n",
              "508  1255.039370  2465.433071   34.015748  ...    1000.0   100.0       0.1000\n",
              "509  1255.039370  2465.433071  890.078740  ...    1000.0   100.0       0.1000\n",
              "\n",
              "[510 rows x 19 columns]"
            ]
          },
          "metadata": {},
          "execution_count": 5
        }
      ]
    },
    {
      "cell_type": "code",
      "source": [
        "df.info()"
      ],
      "metadata": {
        "colab": {
          "base_uri": "https://localhost:8080/"
        },
        "id": "XZu4PzP_L0gu",
        "outputId": "899a4373-0ea8-408d-e37a-bd7576d93ad0"
      },
      "execution_count": null,
      "outputs": [
        {
          "output_type": "stream",
          "name": "stdout",
          "text": [
            "<class 'pandas.core.frame.DataFrame'>\n",
            "Int64Index: 510 entries, 0 to 509\n",
            "Data columns (total 19 columns):\n",
            " #   Column       Non-Null Count  Dtype  \n",
            "---  ------       --------------  -----  \n",
            " 0   x_Links      510 non-null    float64\n",
            " 1   x_Rechts     510 non-null    float64\n",
            " 2   y_Unten      510 non-null    float64\n",
            " 3   y_Oben       510 non-null    float64\n",
            " 4   X_sheetsize  510 non-null    float64\n",
            " 5   Y_sheetsize  510 non-null    float64\n",
            " 6   BSig         510 non-null    object \n",
            " 7   MarBot       510 non-null    float64\n",
            " 8   MarLeft      510 non-null    float64\n",
            " 9   MarRight     510 non-null    float64\n",
            " 10  MarTop       510 non-null    float64\n",
            " 11  Orient       510 non-null    object \n",
            " 12  JobID        510 non-null    int64  \n",
            " 13  ProjectID    510 non-null    int64  \n",
            " 14  DocName      510 non-null    object \n",
            " 15  ZeitDauer    488 non-null    float64\n",
            " 16  Leistung     488 non-null    float64\n",
            " 17  Menge        488 non-null    float64\n",
            " 18  Schneidzeit  488 non-null    float64\n",
            "dtypes: float64(14), int64(2), object(3)\n",
            "memory usage: 79.7+ KB\n"
          ]
        }
      ]
    },
    {
      "cell_type": "code",
      "source": [
        "def maßeBerechnen(df):\n",
        "  x_Maße = df[['x_Links', 'x_Rechts']]\n",
        "  y_Maße = df[['y_Unten', 'y_Oben']]\n",
        "  id = df['DocName']\n",
        "  Project_id = df['ProjectID']\n",
        "  Job_id = df['JobID']\n",
        "  Menge = df['Menge']\n",
        "  Breite = abs(x_Maße['x_Links'] - x_Maße['x_Rechts'])\n",
        "  Höhe = abs(y_Maße['y_Unten'] - y_Maße['y_Oben'])\n",
        "  \n",
        "  df2 = pd.DataFrame(list(zip(Breite, Höhe, id, Menge, Project_id, Job_id)),\n",
        "               columns =['Breite', 'Höhe', 'DocName', 'Menge', 'ProjectID', 'JobID'])\n",
        "  return df2"
      ],
      "metadata": {
        "id": "nQ6dAO9YGBIk"
      },
      "execution_count": null,
      "outputs": []
    },
    {
      "cell_type": "code",
      "source": [
        "Maße_df = maßeBerechnen(df)\n",
        "print(Maße_df)"
      ],
      "metadata": {
        "colab": {
          "base_uri": "https://localhost:8080/"
        },
        "id": "jI3-Sl9SF5Om",
        "outputId": "fe935760-e5c9-4331-8d2d-b4584e721f6d"
      },
      "execution_count": null,
      "outputs": [
        {
          "output_type": "stream",
          "name": "stdout",
          "text": [
            "          Breite         Höhe       DocName   Menge  ProjectID       JobID\n",
            "0    1210.393701  1717.795276  6510615901_0  2500.0   65106159  6510615901\n",
            "1    1210.393701  1717.795276  6510615901_1  2500.0   65106159  6510615901\n",
            "2    1224.566929  1748.976378  6510729103_0  4000.0   65107291  6510729103\n",
            "3    1224.566929  1748.976378  6510729103_1  4000.0   65107291  6510729103\n",
            "4     600.944882   282.047244  6510729105_0  3000.0   65107291  6510729105\n",
            "..           ...          ...           ...     ...        ...         ...\n",
            "505   615.118110   856.062992  6513087310_5   250.0   65130873  6513087310\n",
            "506   615.118110   856.062992  6513087310_6   250.0   65130873  6513087310\n",
            "507  1231.653543  1717.795276  6512513024_0   100.0   65125130  6512513024\n",
            "508  1210.393701   861.732284  6512513024_1   100.0   65125130  6512513024\n",
            "509  1210.393701   861.732284  6512513024_2   100.0   65125130  6512513024\n",
            "\n",
            "[510 rows x 6 columns]\n"
          ]
        }
      ]
    },
    {
      "cell_type": "code",
      "source": [
        "df = df.merge(Maße_df)"
      ],
      "metadata": {
        "id": "f39eDs8pL8ea"
      },
      "execution_count": null,
      "outputs": []
    },
    {
      "cell_type": "markdown",
      "source": [
        "# Schneidzeitbestimmung\n",
        "\n",
        "X:\n",
        "jetzt:\n",
        "*   Mehrere Boxen (mit versch. Länge und Breite)\n",
        "*   Menge\n",
        "*   Anzahl Flyer auf Druckbogen\n",
        "\n",
        "später:\n",
        "*   Sheetsize\n",
        "*   Dicke (Grammatur)\n",
        "\n",
        "y:\n",
        "*   Schneidzeit\n",
        "\n"
      ],
      "metadata": {
        "id": "VhFSXqcdNUja"
      }
    },
    {
      "cell_type": "code",
      "source": [
        "df.columns"
      ],
      "metadata": {
        "colab": {
          "base_uri": "https://localhost:8080/"
        },
        "id": "Q8h6I4QKpf-Q",
        "outputId": "834d2e38-3f90-4389-bc3d-050f24d43240"
      },
      "execution_count": null,
      "outputs": [
        {
          "output_type": "execute_result",
          "data": {
            "text/plain": [
              "Index(['x_Links', 'x_Rechts', 'y_Unten', 'y_Oben', 'X_sheetsize',\n",
              "       'Y_sheetsize', 'BSig', 'MarBot', 'MarLeft', 'MarRight', 'MarTop',\n",
              "       'Orient', 'JobID', 'ProjectID', 'DocName', 'ZeitDauer', 'Leistung',\n",
              "       'Menge', 'Schneidzeit', 'Breite', 'Höhe'],\n",
              "      dtype='object')"
            ]
          },
          "metadata": {},
          "execution_count": 10
        }
      ]
    },
    {
      "cell_type": "code",
      "source": [
        "reduced_df = df[['JobID', 'Menge', 'Schneidzeit']]\n",
        "df = reduced_df"
      ],
      "metadata": {
        "id": "tS4dxNRvNXUl"
      },
      "execution_count": null,
      "outputs": []
    },
    {
      "cell_type": "code",
      "source": [
        "df = df.dropna()\n",
        "df.info()"
      ],
      "metadata": {
        "colab": {
          "base_uri": "https://localhost:8080/"
        },
        "id": "kYOaOmAdqeUM",
        "outputId": "7f8217f0-6d7f-4e62-dfca-1e79c47e0d2c"
      },
      "execution_count": null,
      "outputs": [
        {
          "output_type": "stream",
          "name": "stdout",
          "text": [
            "<class 'pandas.core.frame.DataFrame'>\n",
            "Int64Index: 488 entries, 0 to 509\n",
            "Data columns (total 3 columns):\n",
            " #   Column       Non-Null Count  Dtype  \n",
            "---  ------       --------------  -----  \n",
            " 0   JobID        488 non-null    int64  \n",
            " 1   Menge        488 non-null    float64\n",
            " 2   Schneidzeit  488 non-null    float64\n",
            "dtypes: float64(2), int64(1)\n",
            "memory usage: 15.2 KB\n"
          ]
        }
      ]
    },
    {
      "cell_type": "code",
      "source": [
        "df.head(1)"
      ],
      "metadata": {
        "colab": {
          "base_uri": "https://localhost:8080/",
          "height": 81
        },
        "id": "R53sZMvnRz07",
        "outputId": "4cd675ff-0713-4d2a-f7d1-1e5e3547a46f"
      },
      "execution_count": null,
      "outputs": [
        {
          "output_type": "execute_result",
          "data": {
            "text/html": [
              "\n",
              "  <div id=\"df-d8baf124-72eb-412d-8ee9-61d90d0d5683\">\n",
              "    <div class=\"colab-df-container\">\n",
              "      <div>\n",
              "<style scoped>\n",
              "    .dataframe tbody tr th:only-of-type {\n",
              "        vertical-align: middle;\n",
              "    }\n",
              "\n",
              "    .dataframe tbody tr th {\n",
              "        vertical-align: top;\n",
              "    }\n",
              "\n",
              "    .dataframe thead th {\n",
              "        text-align: right;\n",
              "    }\n",
              "</style>\n",
              "<table border=\"1\" class=\"dataframe\">\n",
              "  <thead>\n",
              "    <tr style=\"text-align: right;\">\n",
              "      <th></th>\n",
              "      <th>JobID</th>\n",
              "      <th>Menge</th>\n",
              "      <th>Schneidzeit</th>\n",
              "    </tr>\n",
              "  </thead>\n",
              "  <tbody>\n",
              "    <tr>\n",
              "      <th>0</th>\n",
              "      <td>6510615901</td>\n",
              "      <td>2500.0</td>\n",
              "      <td>0.2717</td>\n",
              "    </tr>\n",
              "  </tbody>\n",
              "</table>\n",
              "</div>\n",
              "      <button class=\"colab-df-convert\" onclick=\"convertToInteractive('df-d8baf124-72eb-412d-8ee9-61d90d0d5683')\"\n",
              "              title=\"Convert this dataframe to an interactive table.\"\n",
              "              style=\"display:none;\">\n",
              "        \n",
              "  <svg xmlns=\"http://www.w3.org/2000/svg\" height=\"24px\"viewBox=\"0 0 24 24\"\n",
              "       width=\"24px\">\n",
              "    <path d=\"M0 0h24v24H0V0z\" fill=\"none\"/>\n",
              "    <path d=\"M18.56 5.44l.94 2.06.94-2.06 2.06-.94-2.06-.94-.94-2.06-.94 2.06-2.06.94zm-11 1L8.5 8.5l.94-2.06 2.06-.94-2.06-.94L8.5 2.5l-.94 2.06-2.06.94zm10 10l.94 2.06.94-2.06 2.06-.94-2.06-.94-.94-2.06-.94 2.06-2.06.94z\"/><path d=\"M17.41 7.96l-1.37-1.37c-.4-.4-.92-.59-1.43-.59-.52 0-1.04.2-1.43.59L10.3 9.45l-7.72 7.72c-.78.78-.78 2.05 0 2.83L4 21.41c.39.39.9.59 1.41.59.51 0 1.02-.2 1.41-.59l7.78-7.78 2.81-2.81c.8-.78.8-2.07 0-2.86zM5.41 20L4 18.59l7.72-7.72 1.47 1.35L5.41 20z\"/>\n",
              "  </svg>\n",
              "      </button>\n",
              "      \n",
              "  <style>\n",
              "    .colab-df-container {\n",
              "      display:flex;\n",
              "      flex-wrap:wrap;\n",
              "      gap: 12px;\n",
              "    }\n",
              "\n",
              "    .colab-df-convert {\n",
              "      background-color: #E8F0FE;\n",
              "      border: none;\n",
              "      border-radius: 50%;\n",
              "      cursor: pointer;\n",
              "      display: none;\n",
              "      fill: #1967D2;\n",
              "      height: 32px;\n",
              "      padding: 0 0 0 0;\n",
              "      width: 32px;\n",
              "    }\n",
              "\n",
              "    .colab-df-convert:hover {\n",
              "      background-color: #E2EBFA;\n",
              "      box-shadow: 0px 1px 2px rgba(60, 64, 67, 0.3), 0px 1px 3px 1px rgba(60, 64, 67, 0.15);\n",
              "      fill: #174EA6;\n",
              "    }\n",
              "\n",
              "    [theme=dark] .colab-df-convert {\n",
              "      background-color: #3B4455;\n",
              "      fill: #D2E3FC;\n",
              "    }\n",
              "\n",
              "    [theme=dark] .colab-df-convert:hover {\n",
              "      background-color: #434B5C;\n",
              "      box-shadow: 0px 1px 3px 1px rgba(0, 0, 0, 0.15);\n",
              "      filter: drop-shadow(0px 1px 2px rgba(0, 0, 0, 0.3));\n",
              "      fill: #FFFFFF;\n",
              "    }\n",
              "  </style>\n",
              "\n",
              "      <script>\n",
              "        const buttonEl =\n",
              "          document.querySelector('#df-d8baf124-72eb-412d-8ee9-61d90d0d5683 button.colab-df-convert');\n",
              "        buttonEl.style.display =\n",
              "          google.colab.kernel.accessAllowed ? 'block' : 'none';\n",
              "\n",
              "        async function convertToInteractive(key) {\n",
              "          const element = document.querySelector('#df-d8baf124-72eb-412d-8ee9-61d90d0d5683');\n",
              "          const dataTable =\n",
              "            await google.colab.kernel.invokeFunction('convertToInteractive',\n",
              "                                                     [key], {});\n",
              "          if (!dataTable) return;\n",
              "\n",
              "          const docLinkHtml = 'Like what you see? Visit the ' +\n",
              "            '<a target=\"_blank\" href=https://colab.research.google.com/notebooks/data_table.ipynb>data table notebook</a>'\n",
              "            + ' to learn more about interactive tables.';\n",
              "          element.innerHTML = '';\n",
              "          dataTable['output_type'] = 'display_data';\n",
              "          await google.colab.output.renderOutput(dataTable, element);\n",
              "          const docLink = document.createElement('div');\n",
              "          docLink.innerHTML = docLinkHtml;\n",
              "          element.appendChild(docLink);\n",
              "        }\n",
              "      </script>\n",
              "    </div>\n",
              "  </div>\n",
              "  "
            ],
            "text/plain": [
              "        JobID   Menge  Schneidzeit\n",
              "0  6510615901  2500.0       0.2717"
            ]
          },
          "metadata": {},
          "execution_count": 13
        }
      ]
    },
    {
      "cell_type": "code",
      "source": [
        "df['Anzahl_Flyer'] = df.groupby('JobID')['JobID'].transform('count')"
      ],
      "metadata": {
        "colab": {
          "base_uri": "https://localhost:8080/"
        },
        "id": "wtdrairabetS",
        "outputId": "6e76304d-7899-450d-947a-b6f406bcebbf"
      },
      "execution_count": null,
      "outputs": [
        {
          "output_type": "stream",
          "name": "stderr",
          "text": [
            "/usr/local/lib/python3.7/dist-packages/ipykernel_launcher.py:1: SettingWithCopyWarning: \n",
            "A value is trying to be set on a copy of a slice from a DataFrame.\n",
            "Try using .loc[row_indexer,col_indexer] = value instead\n",
            "\n",
            "See the caveats in the documentation: https://pandas.pydata.org/pandas-docs/stable/user_guide/indexing.html#returning-a-view-versus-a-copy\n",
            "  \"\"\"Entry point for launching an IPython kernel.\n"
          ]
        }
      ]
    },
    {
      "cell_type": "code",
      "source": [
        "df = df[['JobID', 'Menge', 'Anzahl_Flyer', 'Schneidzeit']]\n",
        "df.head(2)"
      ],
      "metadata": {
        "colab": {
          "base_uri": "https://localhost:8080/",
          "height": 112
        },
        "id": "OOjhLAESpzWZ",
        "outputId": "6a7c1a11-83af-401c-b613-da51de3bbc75"
      },
      "execution_count": null,
      "outputs": [
        {
          "output_type": "execute_result",
          "data": {
            "text/html": [
              "\n",
              "  <div id=\"df-61a02eb9-55e4-479f-a30c-5c3088fdefa4\">\n",
              "    <div class=\"colab-df-container\">\n",
              "      <div>\n",
              "<style scoped>\n",
              "    .dataframe tbody tr th:only-of-type {\n",
              "        vertical-align: middle;\n",
              "    }\n",
              "\n",
              "    .dataframe tbody tr th {\n",
              "        vertical-align: top;\n",
              "    }\n",
              "\n",
              "    .dataframe thead th {\n",
              "        text-align: right;\n",
              "    }\n",
              "</style>\n",
              "<table border=\"1\" class=\"dataframe\">\n",
              "  <thead>\n",
              "    <tr style=\"text-align: right;\">\n",
              "      <th></th>\n",
              "      <th>JobID</th>\n",
              "      <th>Menge</th>\n",
              "      <th>Anzahl_Flyer</th>\n",
              "      <th>Schneidzeit</th>\n",
              "    </tr>\n",
              "  </thead>\n",
              "  <tbody>\n",
              "    <tr>\n",
              "      <th>0</th>\n",
              "      <td>6510615901</td>\n",
              "      <td>2500.0</td>\n",
              "      <td>2</td>\n",
              "      <td>0.2717</td>\n",
              "    </tr>\n",
              "    <tr>\n",
              "      <th>1</th>\n",
              "      <td>6510615901</td>\n",
              "      <td>2500.0</td>\n",
              "      <td>2</td>\n",
              "      <td>0.2717</td>\n",
              "    </tr>\n",
              "  </tbody>\n",
              "</table>\n",
              "</div>\n",
              "      <button class=\"colab-df-convert\" onclick=\"convertToInteractive('df-61a02eb9-55e4-479f-a30c-5c3088fdefa4')\"\n",
              "              title=\"Convert this dataframe to an interactive table.\"\n",
              "              style=\"display:none;\">\n",
              "        \n",
              "  <svg xmlns=\"http://www.w3.org/2000/svg\" height=\"24px\"viewBox=\"0 0 24 24\"\n",
              "       width=\"24px\">\n",
              "    <path d=\"M0 0h24v24H0V0z\" fill=\"none\"/>\n",
              "    <path d=\"M18.56 5.44l.94 2.06.94-2.06 2.06-.94-2.06-.94-.94-2.06-.94 2.06-2.06.94zm-11 1L8.5 8.5l.94-2.06 2.06-.94-2.06-.94L8.5 2.5l-.94 2.06-2.06.94zm10 10l.94 2.06.94-2.06 2.06-.94-2.06-.94-.94-2.06-.94 2.06-2.06.94z\"/><path d=\"M17.41 7.96l-1.37-1.37c-.4-.4-.92-.59-1.43-.59-.52 0-1.04.2-1.43.59L10.3 9.45l-7.72 7.72c-.78.78-.78 2.05 0 2.83L4 21.41c.39.39.9.59 1.41.59.51 0 1.02-.2 1.41-.59l7.78-7.78 2.81-2.81c.8-.78.8-2.07 0-2.86zM5.41 20L4 18.59l7.72-7.72 1.47 1.35L5.41 20z\"/>\n",
              "  </svg>\n",
              "      </button>\n",
              "      \n",
              "  <style>\n",
              "    .colab-df-container {\n",
              "      display:flex;\n",
              "      flex-wrap:wrap;\n",
              "      gap: 12px;\n",
              "    }\n",
              "\n",
              "    .colab-df-convert {\n",
              "      background-color: #E8F0FE;\n",
              "      border: none;\n",
              "      border-radius: 50%;\n",
              "      cursor: pointer;\n",
              "      display: none;\n",
              "      fill: #1967D2;\n",
              "      height: 32px;\n",
              "      padding: 0 0 0 0;\n",
              "      width: 32px;\n",
              "    }\n",
              "\n",
              "    .colab-df-convert:hover {\n",
              "      background-color: #E2EBFA;\n",
              "      box-shadow: 0px 1px 2px rgba(60, 64, 67, 0.3), 0px 1px 3px 1px rgba(60, 64, 67, 0.15);\n",
              "      fill: #174EA6;\n",
              "    }\n",
              "\n",
              "    [theme=dark] .colab-df-convert {\n",
              "      background-color: #3B4455;\n",
              "      fill: #D2E3FC;\n",
              "    }\n",
              "\n",
              "    [theme=dark] .colab-df-convert:hover {\n",
              "      background-color: #434B5C;\n",
              "      box-shadow: 0px 1px 3px 1px rgba(0, 0, 0, 0.15);\n",
              "      filter: drop-shadow(0px 1px 2px rgba(0, 0, 0, 0.3));\n",
              "      fill: #FFFFFF;\n",
              "    }\n",
              "  </style>\n",
              "\n",
              "      <script>\n",
              "        const buttonEl =\n",
              "          document.querySelector('#df-61a02eb9-55e4-479f-a30c-5c3088fdefa4 button.colab-df-convert');\n",
              "        buttonEl.style.display =\n",
              "          google.colab.kernel.accessAllowed ? 'block' : 'none';\n",
              "\n",
              "        async function convertToInteractive(key) {\n",
              "          const element = document.querySelector('#df-61a02eb9-55e4-479f-a30c-5c3088fdefa4');\n",
              "          const dataTable =\n",
              "            await google.colab.kernel.invokeFunction('convertToInteractive',\n",
              "                                                     [key], {});\n",
              "          if (!dataTable) return;\n",
              "\n",
              "          const docLinkHtml = 'Like what you see? Visit the ' +\n",
              "            '<a target=\"_blank\" href=https://colab.research.google.com/notebooks/data_table.ipynb>data table notebook</a>'\n",
              "            + ' to learn more about interactive tables.';\n",
              "          element.innerHTML = '';\n",
              "          dataTable['output_type'] = 'display_data';\n",
              "          await google.colab.output.renderOutput(dataTable, element);\n",
              "          const docLink = document.createElement('div');\n",
              "          docLink.innerHTML = docLinkHtml;\n",
              "          element.appendChild(docLink);\n",
              "        }\n",
              "      </script>\n",
              "    </div>\n",
              "  </div>\n",
              "  "
            ],
            "text/plain": [
              "        JobID   Menge  Anzahl_Flyer  Schneidzeit\n",
              "0  6510615901  2500.0             2       0.2717\n",
              "1  6510615901  2500.0             2       0.2717"
            ]
          },
          "metadata": {},
          "execution_count": 15
        }
      ]
    },
    {
      "cell_type": "code",
      "source": [
        "array = df.values\n",
        "X = array[:,1:3]\n",
        "y = array[:,3]"
      ],
      "metadata": {
        "id": "K6lJ8cnUZIT7"
      },
      "execution_count": null,
      "outputs": []
    },
    {
      "cell_type": "markdown",
      "source": [
        "# Spotcheck\n",
        "BEST RESULT: >svmr1.0: -0.030 (+/-0.054)\n",
        "[Spotcheck](https://machinelearningmastery.com/spot-check-machine-learning-algorithms-in-python/)"
      ],
      "metadata": {
        "id": "40QUUW_dR-D3"
      }
    },
    {
      "cell_type": "code",
      "source": [
        "# regression spot check script\n",
        "import warnings\n",
        "from numpy import mean\n",
        "from numpy import std\n",
        "from matplotlib import pyplot\n",
        "from sklearn.model_selection import cross_val_score\n",
        "from sklearn.preprocessing import StandardScaler\n",
        "from sklearn.preprocessing import MinMaxScaler\n",
        "from sklearn.pipeline import Pipeline\n",
        "from sklearn.linear_model import LinearRegression\n",
        "from sklearn.linear_model import Lasso\n",
        "from sklearn.linear_model import Ridge\n",
        "from sklearn.linear_model import ElasticNet\n",
        "from sklearn.linear_model import HuberRegressor\n",
        "from sklearn.linear_model import Lars\n",
        "from sklearn.linear_model import LassoLars\n",
        "from sklearn.linear_model import PassiveAggressiveRegressor\n",
        "from sklearn.linear_model import RANSACRegressor\n",
        "from sklearn.linear_model import SGDRegressor\n",
        "from sklearn.linear_model import TheilSenRegressor\n",
        "from sklearn.neighbors import KNeighborsRegressor\n",
        "from sklearn.tree import DecisionTreeRegressor\n",
        "from sklearn.tree import ExtraTreeRegressor\n",
        "from sklearn.svm import SVR\n",
        "from sklearn.ensemble import AdaBoostRegressor\n",
        "from sklearn.ensemble import BaggingRegressor\n",
        "from sklearn.ensemble import RandomForestRegressor\n",
        "from sklearn.ensemble import ExtraTreesRegressor\n",
        "from sklearn.ensemble import GradientBoostingRegressor"
      ],
      "metadata": {
        "id": "GAsJPyYdUWl4"
      },
      "execution_count": null,
      "outputs": []
    },
    {
      "cell_type": "code",
      "source": [
        "# load the dataset, returns X and y elements\n",
        "def load_dataset(df):\n",
        "  X = df[['Höhe', 'Breite', 'Menge']].to_numpy()\n",
        "  y = df['Schneidzeit'].to_numpy()\n",
        "  return X, y"
      ],
      "metadata": {
        "id": "5luevWnZUYlA"
      },
      "execution_count": null,
      "outputs": []
    },
    {
      "cell_type": "code",
      "source": [
        "# create a dict of standard models to evaluate {name:object}\n",
        "def get_models(models=dict()):\n",
        "\t# linear models\n",
        "\tmodels['lr'] = LinearRegression()\n",
        "\talpha = [0.0, 0.1, 0.2, 0.3, 0.4, 0.5, 0.6, 0.7, 0.8, 0.9, 1.0]\n",
        "\tfor a in alpha:\n",
        "\t\tmodels['lasso-'+str(a)] = Lasso(alpha=a)\n",
        "\tfor a in alpha:\n",
        "\t\tmodels['ridge-'+str(a)] = Ridge(alpha=a)\n",
        "\tfor a1 in alpha:\n",
        "\t\tfor a2 in alpha:\n",
        "\t\t\tname = 'en-' + str(a1) + '-' + str(a2)\n",
        "\t    # models[name] = ElasticNet(a1, a2)\n",
        "\tmodels['huber'] = HuberRegressor()\n",
        "\tmodels['lars'] = Lars()\n",
        "\tmodels['llars'] = LassoLars()\n",
        "\tmodels['pa'] = PassiveAggressiveRegressor(max_iter=1000, tol=1e-3)\n",
        "\tmodels['ranscac'] = RANSACRegressor()\n",
        "\tmodels['sgd'] = SGDRegressor(max_iter=1000, tol=1e-3)\n",
        "\tmodels['theil'] = TheilSenRegressor()\n",
        "\t# non-linear models\n",
        "\tn_neighbors = range(1, 21)\n",
        "\tfor k in n_neighbors:\n",
        "\t\tmodels['knn-'+str(k)] = KNeighborsRegressor(n_neighbors=k)\n",
        "\tmodels['cart'] = DecisionTreeRegressor()\n",
        "\tmodels['extra'] = ExtraTreeRegressor()\n",
        "\tmodels['svml'] = SVR(kernel='linear')\n",
        "\tmodels['svmp'] = SVR(kernel='poly')\n",
        "\tc_values = [0.1, 0.2, 0.3, 0.4, 0.5, 0.6, 0.7, 0.8, 0.9, 1.0]\n",
        "\tfor c in c_values:\n",
        "\t\tmodels['svmr'+str(c)] = SVR(C=c)\n",
        "\t# ensemble models\n",
        "\tn_trees = 100\n",
        "\tmodels['ada'] = AdaBoostRegressor(n_estimators=n_trees)\n",
        "\tmodels['bag'] = BaggingRegressor(n_estimators=n_trees)\n",
        "\tmodels['rf'] = RandomForestRegressor(n_estimators=n_trees)\n",
        "\tmodels['et'] = ExtraTreesRegressor(n_estimators=n_trees)\n",
        "\tmodels['gbm'] = GradientBoostingRegressor(n_estimators=n_trees)\n",
        "\tprint('Defined %d models' % len(models))\n",
        "\treturn models\n",
        " \n",
        "# create a feature preparation pipeline for a model\n",
        "def make_pipeline(model):\n",
        "\tsteps = list()\n",
        "\t# standardization\n",
        "\tsteps.append(('standardize', StandardScaler()))\n",
        "\t# normalization\n",
        "\tsteps.append(('normalize', MinMaxScaler()))\n",
        "\t# the model\n",
        "\tsteps.append(('model', model))\n",
        "\t# create pipeline\n",
        "\tpipeline = Pipeline(steps=steps)\n",
        "\treturn pipeline\n",
        " \n",
        "# evaluate a single model\n",
        "def evaluate_model(X, y, model, folds, metric):\n",
        "\t# create the pipeline\n",
        "\tpipeline = make_pipeline(model)\n",
        "\t# evaluate model\n",
        "\tscores = cross_val_score(pipeline, X, y, scoring=metric, cv=folds, n_jobs=-1)\n",
        "\treturn scores\n",
        " \n",
        "# evaluate a model and try to trap errors and and hide warnings\n",
        "def robust_evaluate_model(X, y, model, folds, metric):\n",
        "\tscores = None\n",
        "\ttry:\n",
        "\t\twith warnings.catch_warnings():\n",
        "\t\t\twarnings.filterwarnings(\"ignore\")\n",
        "\t\t\tscores = evaluate_model(X, y, model, folds, metric)\n",
        "\texcept:\n",
        "\t\tscores = None\n",
        "\treturn scores\n",
        " \n",
        "# evaluate a dict of models {name:object}, returns {name:score}\n",
        "def evaluate_models(X, y, models, folds=10, metric='accuracy'):\n",
        "\tresults = dict()\n",
        "\tfor name, model in models.items():\n",
        "\t\t# evaluate the model\n",
        "\t\tscores = robust_evaluate_model(X, y, model, folds, metric)\n",
        "\t\t# show process\n",
        "\t\tif scores is not None:\n",
        "\t\t\t# store a result\n",
        "\t\t\tresults[name] = scores\n",
        "\t\t\tmean_score, std_score = mean(scores), std(scores)\n",
        "\t\t\tprint('>%s: %.3f (+/-%.3f)' % (name, mean_score, std_score))\n",
        "\t\telse:\n",
        "\t\t\tprint('>%s: error' % name)\n",
        "\treturn results\n",
        " \n",
        "# print and plot the top n results\n",
        "def summarize_results(results, maximize=True, top_n=10):\n",
        "\t# check for no results\n",
        "\tif len(results) == 0:\n",
        "\t\tprint('no results')\n",
        "\t\treturn\n",
        "\t# determine how many results to summarize\n",
        "\tn = min(top_n, len(results))\n",
        "\t# create a list of (name, mean(scores)) tuples\n",
        "\tmean_scores = [(k,mean(v)) for k,v in results.items()]\n",
        "\t# sort tuples by mean score\n",
        "\tmean_scores = sorted(mean_scores, key=lambda x: x[1])\n",
        "\t# reverse for descending order (e.g. for accuracy)\n",
        "\tif maximize:\n",
        "\t\tmean_scores = list(reversed(mean_scores))\n",
        "\t# retrieve the top n for summarization\n",
        "\tnames = [x[0] for x in mean_scores[:n]]\n",
        "\tscores = [results[x[0]] for x in mean_scores[:n]]\n",
        "\t# print the top n\n",
        "\tprint()\n",
        "\tfor i in range(n):\n",
        "\t\tname = names[i]\n",
        "\t\tmean_score, std_score = mean(results[name]), std(results[name])\n",
        "\t\tprint('Rank=%d, Name=%s, Score=%.3f (+/- %.3f)' % (i+1, name, mean_score, std_score))\n",
        "\t# boxplot for the top n\n",
        "\tpyplot.boxplot(scores, labels=names)\n",
        "\t_, labels = pyplot.xticks()\n",
        "\tpyplot.setp(labels, rotation=90)\n",
        "\tpyplot.savefig('spotcheck.png')"
      ],
      "metadata": {
        "id": "olI2zL39UFQA"
      },
      "execution_count": null,
      "outputs": []
    },
    {
      "cell_type": "code",
      "source": [
        "# load dataset\n",
        "# X, y = load_dataset(df)\n",
        "# get model list\n",
        "models = get_models()\n",
        "# evaluate models\n",
        "results = evaluate_models(X, y, models, metric='neg_mean_squared_error')\n",
        "# summarize results\n",
        "summarize_results(results)"
      ],
      "metadata": {
        "colab": {
          "base_uri": "https://localhost:8080/",
          "height": 1000
        },
        "id": "0_TnmxbjUVVP",
        "outputId": "800c6df2-81de-47f3-e1bd-7e5176a4d2d0"
      },
      "execution_count": null,
      "outputs": [
        {
          "output_type": "stream",
          "name": "stdout",
          "text": [
            "Defined 69 models\n",
            ">lr: -0.037 (+/-0.076)\n",
            ">lasso-0.0: -0.037 (+/-0.076)\n",
            ">lasso-0.1: -0.036 (+/-0.057)\n",
            ">lasso-0.2: -0.036 (+/-0.057)\n",
            ">lasso-0.3: -0.036 (+/-0.057)\n",
            ">lasso-0.4: -0.036 (+/-0.057)\n",
            ">lasso-0.5: -0.036 (+/-0.057)\n",
            ">lasso-0.6: -0.036 (+/-0.057)\n",
            ">lasso-0.7: -0.036 (+/-0.057)\n",
            ">lasso-0.8: -0.036 (+/-0.057)\n",
            ">lasso-0.9: -0.036 (+/-0.057)\n",
            ">lasso-1.0: -0.036 (+/-0.057)\n",
            ">ridge-0.0: -0.037 (+/-0.076)\n",
            ">ridge-0.1: -0.037 (+/-0.075)\n",
            ">ridge-0.2: -0.037 (+/-0.074)\n",
            ">ridge-0.3: -0.037 (+/-0.074)\n",
            ">ridge-0.4: -0.036 (+/-0.073)\n",
            ">ridge-0.5: -0.036 (+/-0.073)\n",
            ">ridge-0.6: -0.036 (+/-0.072)\n",
            ">ridge-0.7: -0.036 (+/-0.072)\n",
            ">ridge-0.8: -0.036 (+/-0.071)\n",
            ">ridge-0.9: -0.036 (+/-0.071)\n",
            ">ridge-1.0: -0.036 (+/-0.070)\n",
            ">huber: -0.033 (+/-0.067)\n",
            ">lars: -0.037 (+/-0.076)\n",
            ">llars: -0.036 (+/-0.057)\n",
            ">pa: -0.286 (+/-0.260)\n",
            ">ranscac: -0.040 (+/-0.062)\n",
            ">sgd: -0.034 (+/-0.052)\n",
            ">theil: -0.032 (+/-0.056)\n",
            ">knn-1: -0.054 (+/-0.076)\n",
            ">knn-2: -0.053 (+/-0.077)\n",
            ">knn-3: -0.053 (+/-0.077)\n",
            ">knn-4: -0.054 (+/-0.077)\n",
            ">knn-5: -0.054 (+/-0.076)\n",
            ">knn-6: -0.048 (+/-0.066)\n",
            ">knn-7: -0.046 (+/-0.061)\n",
            ">knn-8: -0.047 (+/-0.057)\n",
            ">knn-9: -0.048 (+/-0.056)\n",
            ">knn-10: -0.049 (+/-0.056)\n",
            ">knn-11: -0.050 (+/-0.055)\n",
            ">knn-12: -0.047 (+/-0.056)\n",
            ">knn-13: -0.046 (+/-0.056)\n",
            ">knn-14: -0.044 (+/-0.057)\n",
            ">knn-15: -0.043 (+/-0.057)\n",
            ">knn-16: -0.042 (+/-0.057)\n",
            ">knn-17: -0.041 (+/-0.057)\n",
            ">knn-18: -0.041 (+/-0.057)\n",
            ">knn-19: -0.040 (+/-0.057)\n",
            ">knn-20: -0.041 (+/-0.057)\n",
            ">cart: -0.052 (+/-0.078)\n",
            ">extra: -0.071 (+/-0.082)\n",
            ">svml: -0.038 (+/-0.077)\n",
            ">svmp: -0.083 (+/-0.223)\n",
            ">svmr0.1: -0.032 (+/-0.054)\n",
            ">svmr0.2: -0.031 (+/-0.054)\n",
            ">svmr0.3: -0.031 (+/-0.054)\n",
            ">svmr0.4: -0.031 (+/-0.054)\n",
            ">svmr0.5: -0.031 (+/-0.054)\n",
            ">svmr0.6: -0.031 (+/-0.054)\n",
            ">svmr0.7: -0.030 (+/-0.054)\n",
            ">svmr0.8: -0.030 (+/-0.054)\n",
            ">svmr0.9: -0.030 (+/-0.054)\n",
            ">svmr1.0: -0.030 (+/-0.054)\n",
            ">ada: -0.053 (+/-0.075)\n",
            ">bag: -0.051 (+/-0.076)\n",
            ">rf: -0.051 (+/-0.076)\n",
            ">et: -0.042 (+/-0.061)\n",
            ">gbm: -0.051 (+/-0.076)\n",
            "\n",
            "Rank=1, Name=svmr1.0, Score=-0.030 (+/- 0.054)\n",
            "Rank=2, Name=svmr0.9, Score=-0.030 (+/- 0.054)\n",
            "Rank=3, Name=svmr0.8, Score=-0.030 (+/- 0.054)\n",
            "Rank=4, Name=svmr0.7, Score=-0.030 (+/- 0.054)\n",
            "Rank=5, Name=svmr0.6, Score=-0.031 (+/- 0.054)\n",
            "Rank=6, Name=svmr0.4, Score=-0.031 (+/- 0.054)\n",
            "Rank=7, Name=svmr0.5, Score=-0.031 (+/- 0.054)\n",
            "Rank=8, Name=svmr0.3, Score=-0.031 (+/- 0.054)\n",
            "Rank=9, Name=svmr0.2, Score=-0.031 (+/- 0.054)\n",
            "Rank=10, Name=svmr0.1, Score=-0.032 (+/- 0.054)\n"
          ]
        },
        {
          "output_type": "display_data",
          "data": {
            "image/png": "[encoded data removed]",
            "text/plain": [
              "<Figure size 432x288 with 1 Axes>"
            ]
          },
          "metadata": {
            "needs_background": "light"
          }
        }
      ]
    },
    {
      "cell_type": "markdown",
      "source": [
        "# RandomForestRegressor¶"
      ],
      "metadata": {
        "id": "fA0vJ7u3XDxE"
      }
    },
    {
      "cell_type": "code",
      "source": [
        "from sklearn.ensemble import RandomForestRegressor\n",
        "from sklearn.datasets import make_regression"
      ],
      "metadata": {
        "id": "qH4cQ5XxXHuQ"
      },
      "execution_count": null,
      "outputs": []
    },
    {
      "cell_type": "code",
      "source": [
        "regr = RandomForestRegressor(max_depth=2, random_state=15)\n",
        "regr.fit(X, y)\n",
        "print(regr.predict([[2500.0, 2]]))"
      ],
      "metadata": {
        "colab": {
          "base_uri": "https://localhost:8080/"
        },
        "id": "-YlegdpxXHy0",
        "outputId": "eb32a5d7-d3b3-4889-ae5e-d26e16a2e276"
      },
      "execution_count": null,
      "outputs": [
        {
          "output_type": "stream",
          "name": "stdout",
          "text": [
            "[0.31235548]\n"
          ]
        }
      ]
    },
    {
      "cell_type": "markdown",
      "source": [
        "# SVMR\n"
      ],
      "metadata": {
        "id": "7tsl32B7z4vj"
      }
    },
    {
      "cell_type": "code",
      "source": [
        "from sklearn.svm import SVR\n",
        "from sklearn.pipeline import make_pipeline\n",
        "from sklearn.preprocessing import StandardScaler\n",
        "import numpy as np\n",
        "import sklearn\n",
        "from sklearn.pipeline import Pipeline\n",
        "from sklearn.svm import SVC\n",
        "from sklearn.decomposition import PCA\n",
        "from sklearn.model_selection import GridSearchCV"
      ],
      "metadata": {
        "id": "xeL354rAz7tq"
      },
      "execution_count": null,
      "outputs": []
    },
    {
      "cell_type": "code",
      "source": [
        "# https://scikit-learn.org/stable/tutorial/statistical_inference/putting_together.html\n",
        "# regr = make_pipeline(StandardScaler(), SVR(C=1.0))\n",
        "# regr.fit(X, y)\n",
        "# steps = [('standardscaler', StandardScaler()),('svr', SVR(C=1.0))]\n",
        "# Pipeline(steps=steps)"
      ],
      "metadata": {
        "id": "Vw35ssQUz7vy"
      },
      "execution_count": null,
      "outputs": []
    },
    {
      "cell_type": "code",
      "source": [
        "estimators = [('standardscaler', StandardScaler()), ('svr', SVR(C=1.0))]\n",
        "pipe = Pipeline(estimators)\n",
        "pipe"
      ],
      "metadata": {
        "colab": {
          "base_uri": "https://localhost:8080/"
        },
        "id": "OLk92_Cf03NN",
        "outputId": "f4984cb6-1944-4bde-8f6c-57e2f2a9f6a3"
      },
      "execution_count": null,
      "outputs": [
        {
          "output_type": "execute_result",
          "data": {
            "text/plain": [
              "Pipeline(steps=[('standardscaler', StandardScaler()), ('svr', SVR())])"
            ]
          },
          "metadata": {},
          "execution_count": 46
        }
      ]
    },
    {
      "cell_type": "code",
      "source": [
        "sklearn.metrics.SCORERS.keys()"
      ],
      "metadata": {
        "colab": {
          "base_uri": "https://localhost:8080/"
        },
        "id": "S74bqx8V9wJQ",
        "outputId": "8b301af7-54c0-461f-b6ec-05e5149ebfab"
      },
      "execution_count": null,
      "outputs": [
        {
          "output_type": "execute_result",
          "data": {
            "text/plain": [
              "dict_keys(['explained_variance', 'r2', 'max_error', 'neg_median_absolute_error', 'neg_mean_absolute_error', 'neg_mean_absolute_percentage_error', 'neg_mean_squared_error', 'neg_mean_squared_log_error', 'neg_root_mean_squared_error', 'neg_mean_poisson_deviance', 'neg_mean_gamma_deviance', 'accuracy', 'top_k_accuracy', 'roc_auc', 'roc_auc_ovr', 'roc_auc_ovo', 'roc_auc_ovr_weighted', 'roc_auc_ovo_weighted', 'balanced_accuracy', 'average_precision', 'neg_log_loss', 'neg_brier_score', 'adjusted_rand_score', 'rand_score', 'homogeneity_score', 'completeness_score', 'v_measure_score', 'mutual_info_score', 'adjusted_mutual_info_score', 'normalized_mutual_info_score', 'fowlkes_mallows_score', 'precision', 'precision_macro', 'precision_micro', 'precision_samples', 'precision_weighted', 'recall', 'recall_macro', 'recall_micro', 'recall_samples', 'recall_weighted', 'f1', 'f1_macro', 'f1_micro', 'f1_samples', 'f1_weighted', 'jaccard', 'jaccard_macro', 'jaccard_micro', 'jaccard_samples', 'jaccard_weighted'])"
            ]
          },
          "metadata": {},
          "execution_count": 79
        }
      ]
    },
    {
      "cell_type": "code",
      "source": [
        "score = 'neg_mean_squared_error'"
      ],
      "metadata": {
        "id": "9tWF3oOU4XJ8"
      },
      "execution_count": null,
      "outputs": []
    },
    {
      "cell_type": "code",
      "source": [
        "param_grid = {\n",
        "    'svr__kernel': ['linear', 'rbf', 'poly'],\n",
        "    'svr__epsilon': [0.1, 0.2, 0.3, 0.4, 0.5]}"
      ],
      "metadata": {
        "id": "ylU46nus5HS9"
      },
      "execution_count": null,
      "outputs": []
    },
    {
      "cell_type": "code",
      "source": [
        "search = GridSearchCV(pipe, param_grid, cv=3, scoring=score, n_jobs = -1, verbose = 2)"
      ],
      "metadata": {
        "id": "Q-dQTP0x8bmM"
      },
      "execution_count": null,
      "outputs": []
    },
    {
      "cell_type": "code",
      "source": [
        "search.fit(X, y)"
      ],
      "metadata": {
        "colab": {
          "base_uri": "https://localhost:8080/"
        },
        "id": "6-80f-Vs8VVy",
        "outputId": "a49d19b9-7284-4160-a7d4-9f695320f157"
      },
      "execution_count": null,
      "outputs": [
        {
          "output_type": "stream",
          "name": "stdout",
          "text": [
            "Fitting 3 folds for each of 15 candidates, totalling 45 fits\n"
          ]
        },
        {
          "output_type": "execute_result",
          "data": {
            "text/plain": [
              "GridSearchCV(cv=3,\n",
              "             estimator=Pipeline(steps=[('standardscaler', StandardScaler()),\n",
              "                                       ('svr', SVR())]),\n",
              "             n_jobs=-1,\n",
              "             param_grid={'svr__epsilon': [0.1, 0.2, 0.3, 0.4, 0.5],\n",
              "                         'svr__kernel': ['linear', 'rbf', 'poly']},\n",
              "             scoring='neg_mean_squared_error', verbose=2)"
            ]
          },
          "metadata": {},
          "execution_count": 83
        }
      ]
    },
    {
      "cell_type": "code",
      "source": [
        "print(\"Best parameter (CV score=%0.3f):\" % search.best_score_)"
      ],
      "metadata": {
        "colab": {
          "base_uri": "https://localhost:8080/"
        },
        "id": "ytE1b7WK6DlL",
        "outputId": "71e71214-542e-4c47-e0b4-3a05bc12d2e8"
      },
      "execution_count": null,
      "outputs": [
        {
          "output_type": "stream",
          "name": "stdout",
          "text": [
            "Best parameter (CV score=-0.030):\n"
          ]
        }
      ]
    },
    {
      "cell_type": "code",
      "source": [
        "print(search.best_params_)"
      ],
      "metadata": {
        "colab": {
          "base_uri": "https://localhost:8080/"
        },
        "id": "qgakvJgd9EXK",
        "outputId": "e73a6fe2-8915-4c22-a9d8-f3a52d1e3135"
      },
      "execution_count": null,
      "outputs": [
        {
          "output_type": "stream",
          "name": "stdout",
          "text": [
            "{'svr__epsilon': 0.1, 'svr__kernel': 'rbf'}\n"
          ]
        }
      ]
    },
    {
      "cell_type": "code",
      "source": [
        "pipe.fit(X, y)"
      ],
      "metadata": {
        "colab": {
          "base_uri": "https://localhost:8080/"
        },
        "id": "XpuBFDog-38c",
        "outputId": "0fe41b8d-4d78-4133-8220-bef151e2a78d"
      },
      "execution_count": null,
      "outputs": [
        {
          "output_type": "execute_result",
          "data": {
            "text/plain": [
              "Pipeline(steps=[('standardscaler', StandardScaler()), ('svr', SVR())])"
            ]
          },
          "metadata": {},
          "execution_count": 86
        }
      ]
    },
    {
      "cell_type": "code",
      "source": [
        "pipe.score(X, y)"
      ],
      "metadata": {
        "colab": {
          "base_uri": "https://localhost:8080/"
        },
        "id": "Yoj07aFy_FBA",
        "outputId": "bdaaad1c-5a4d-4279-9cd7-7692566e9963"
      },
      "execution_count": null,
      "outputs": [
        {
          "output_type": "execute_result",
          "data": {
            "text/plain": [
              "0.3089844355612601"
            ]
          },
          "metadata": {},
          "execution_count": 87
        }
      ]
    },
    {
      "cell_type": "code",
      "source": [
        "test = [2500, 2]"
      ],
      "metadata": {
        "id": "PnQUwR-__FDN"
      },
      "execution_count": null,
      "outputs": []
    },
    {
      "cell_type": "code",
      "source": [
        "predicted = pipe.predict([[3000, 11]])"
      ],
      "metadata": {
        "id": "Tww_aFVb_FFT"
      },
      "execution_count": null,
      "outputs": []
    },
    {
      "cell_type": "code",
      "source": [
        "predicted"
      ],
      "metadata": {
        "colab": {
          "base_uri": "https://localhost:8080/"
        },
        "id": "RJoKeD5w_-hI",
        "outputId": "0226e12f-196e-41b9-bcb6-b9c000050384"
      },
      "execution_count": null,
      "outputs": [
        {
          "output_type": "execute_result",
          "data": {
            "text/plain": [
              "array([0.54603988])"
            ]
          },
          "metadata": {},
          "execution_count": 105
        }
      ]
    }
  ]
}