{
  "nbformat": 4,
  "nbformat_minor": 0,
  "metadata": {
    "colab": {
      "name": "04_cut_time_calculation.ipynb",
      "provenance": [],
      "collapsed_sections": [
        "sHYTWhT_eREY",
        "vOIxVRhoobHy",
        "znSWMsw1Juvd",
        "KfSLSLZgDsZn",
        "xZGt-cc-EEEY",
        "OSYAGel8YYrt",
        "vayvqBOCn9jn",
        "jeazr0xQpsKB",
        "RYoQqWeBmTNy"
      ],
      "toc_visible": true,
      "include_colab_link": true
    },
    "kernelspec": {
      "name": "python3",
      "display_name": "Python 3"
    },
    "language_info": {
      "name": "python"
    }
  },
  "cells": [
    {
      "cell_type": "markdown",
      "metadata": {
        "id": "view-in-github",
        "colab_type": "text"
      },
      "source": [
        "<a href=\"https://colab.research.google.com/github/marrvinn/marrvinn/blob/main/Schneidzeit/04_cut_time_calculation.ipynb\" target=\"_parent\"><img src=\"https://colab.research.google.com/assets/colab-badge.svg\" alt=\"Open In Colab\"/></a>"
      ]
    },
    {
      "cell_type": "markdown",
      "source": [
        "# 4.0 Import and Install"
      ],
      "metadata": {
        "id": "VKffCbt8oQAt"
      }
    },
    {
      "cell_type": "code",
      "execution_count": null,
      "metadata": {
        "id": "RrZSODbJ0H7y"
      },
      "outputs": [],
      "source": [
        "import pandas as pd\n",
        "import numpy as np\n",
        "from numpy import mean\n",
        "import matplotlib.patches as patches\n",
        "from matplotlib import pyplot as plt\n",
        "import glob\n",
        "from os import listdir"
      ]
    },
    {
      "cell_type": "code",
      "source": [
        "from google.colab import drive\n",
        "drive.mount('/content/drive', force_remount=True)"
      ],
      "metadata": {
        "colab": {
          "base_uri": "https://localhost:8080/"
        },
        "id": "7SyKfdS40R8C",
        "outputId": "13c3f3d5-94c9-4e7f-ce66-3b11be19cbec"
      },
      "execution_count": null,
      "outputs": [
        {
          "output_type": "stream",
          "name": "stdout",
          "text": [
            "Mounted at /content/drive\n"
          ]
        }
      ]
    },
    {
      "cell_type": "markdown",
      "source": [
        "# 4.1 Read preprocessed Data"
      ],
      "metadata": {
        "id": "sHYTWhT_eREY"
      }
    },
    {
      "cell_type": "code",
      "source": [
        "data_path = '/content/drive/MyDrive/PJS/01_Input/Daten_v1_clean/01_Preprocessed/prep_flyerdata_135_ma_a18.csv'\n",
        "df = pd.read_csv(data_path, index_col= 0)"
      ],
      "metadata": {
        "id": "BOCjy78V0STR"
      },
      "execution_count": null,
      "outputs": []
    },
    {
      "cell_type": "code",
      "source": [
        "# neue Daten sind sauber\n",
        "# df = df.loc[(df[['amount']] != 0).all(axis=1)] \n",
        "\n",
        "df[df.isnull().any(axis=1)]"
      ],
      "metadata": {
        "id": "AvyklTS1dx6b",
        "outputId": "78a174e8-07d0-4a30-d173-c7f63ab9517e",
        "colab": {
          "base_uri": "https://localhost:8080/"
        }
      },
      "execution_count": null,
      "outputs": [
        {
          "output_type": "execute_result",
          "data": {
            "text/plain": [
              "Empty DataFrame\n",
              "Columns: [DocName, x_left, x_right, y_bot, y_top, x_sheetsize, y_sheetsize, BSig, MarBot, MarLeft, MarRight, MarTop, Orient, JobID, ProjectID, ProductPart, Day, Month, Year, Priority, amount, cut_time, cuts, layer, cut_layer, format, grammatur, width, heigh, new_layer, count_cut]\n",
              "Index: []\n",
              "\n",
              "[0 rows x 31 columns]"
            ],
            "text/html": [
              "\n",
              "  <div id=\"df-887707ed-51b7-4387-a0df-738bb9625189\">\n",
              "    <div class=\"colab-df-container\">\n",
              "      <div>\n",
              "<style scoped>\n",
              "    .dataframe tbody tr th:only-of-type {\n",
              "        vertical-align: middle;\n",
              "    }\n",
              "\n",
              "    .dataframe tbody tr th {\n",
              "        vertical-align: top;\n",
              "    }\n",
              "\n",
              "    .dataframe thead th {\n",
              "        text-align: right;\n",
              "    }\n",
              "</style>\n",
              "<table border=\"1\" class=\"dataframe\">\n",
              "  <thead>\n",
              "    <tr style=\"text-align: right;\">\n",
              "      <th></th>\n",
              "      <th>DocName</th>\n",
              "      <th>x_left</th>\n",
              "      <th>x_right</th>\n",
              "      <th>y_bot</th>\n",
              "      <th>y_top</th>\n",
              "      <th>x_sheetsize</th>\n",
              "      <th>y_sheetsize</th>\n",
              "      <th>BSig</th>\n",
              "      <th>MarBot</th>\n",
              "      <th>MarLeft</th>\n",
              "      <th>...</th>\n",
              "      <th>cut_time</th>\n",
              "      <th>cuts</th>\n",
              "      <th>layer</th>\n",
              "      <th>cut_layer</th>\n",
              "      <th>format</th>\n",
              "      <th>grammatur</th>\n",
              "      <th>width</th>\n",
              "      <th>heigh</th>\n",
              "      <th>new_layer</th>\n",
              "      <th>count_cut</th>\n",
              "    </tr>\n",
              "  </thead>\n",
              "  <tbody>\n",
              "  </tbody>\n",
              "</table>\n",
              "<p>0 rows × 31 columns</p>\n",
              "</div>\n",
              "      <button class=\"colab-df-convert\" onclick=\"convertToInteractive('df-887707ed-51b7-4387-a0df-738bb9625189')\"\n",
              "              title=\"Convert this dataframe to an interactive table.\"\n",
              "              style=\"display:none;\">\n",
              "        \n",
              "  <svg xmlns=\"http://www.w3.org/2000/svg\" height=\"24px\"viewBox=\"0 0 24 24\"\n",
              "       width=\"24px\">\n",
              "    <path d=\"M0 0h24v24H0V0z\" fill=\"none\"/>\n",
              "    <path d=\"M18.56 5.44l.94 2.06.94-2.06 2.06-.94-2.06-.94-.94-2.06-.94 2.06-2.06.94zm-11 1L8.5 8.5l.94-2.06 2.06-.94-2.06-.94L8.5 2.5l-.94 2.06-2.06.94zm10 10l.94 2.06.94-2.06 2.06-.94-2.06-.94-.94-2.06-.94 2.06-2.06.94z\"/><path d=\"M17.41 7.96l-1.37-1.37c-.4-.4-.92-.59-1.43-.59-.52 0-1.04.2-1.43.59L10.3 9.45l-7.72 7.72c-.78.78-.78 2.05 0 2.83L4 21.41c.39.39.9.59 1.41.59.51 0 1.02-.2 1.41-.59l7.78-7.78 2.81-2.81c.8-.78.8-2.07 0-2.86zM5.41 20L4 18.59l7.72-7.72 1.47 1.35L5.41 20z\"/>\n",
              "  </svg>\n",
              "      </button>\n",
              "      \n",
              "  <style>\n",
              "    .colab-df-container {\n",
              "      display:flex;\n",
              "      flex-wrap:wrap;\n",
              "      gap: 12px;\n",
              "    }\n",
              "\n",
              "    .colab-df-convert {\n",
              "      background-color: #E8F0FE;\n",
              "      border: none;\n",
              "      border-radius: 50%;\n",
              "      cursor: pointer;\n",
              "      display: none;\n",
              "      fill: #1967D2;\n",
              "      height: 32px;\n",
              "      padding: 0 0 0 0;\n",
              "      width: 32px;\n",
              "    }\n",
              "\n",
              "    .colab-df-convert:hover {\n",
              "      background-color: #E2EBFA;\n",
              "      box-shadow: 0px 1px 2px rgba(60, 64, 67, 0.3), 0px 1px 3px 1px rgba(60, 64, 67, 0.15);\n",
              "      fill: #174EA6;\n",
              "    }\n",
              "\n",
              "    [theme=dark] .colab-df-convert {\n",
              "      background-color: #3B4455;\n",
              "      fill: #D2E3FC;\n",
              "    }\n",
              "\n",
              "    [theme=dark] .colab-df-convert:hover {\n",
              "      background-color: #434B5C;\n",
              "      box-shadow: 0px 1px 3px 1px rgba(0, 0, 0, 0.15);\n",
              "      filter: drop-shadow(0px 1px 2px rgba(0, 0, 0, 0.3));\n",
              "      fill: #FFFFFF;\n",
              "    }\n",
              "  </style>\n",
              "\n",
              "      <script>\n",
              "        const buttonEl =\n",
              "          document.querySelector('#df-887707ed-51b7-4387-a0df-738bb9625189 button.colab-df-convert');\n",
              "        buttonEl.style.display =\n",
              "          google.colab.kernel.accessAllowed ? 'block' : 'none';\n",
              "\n",
              "        async function convertToInteractive(key) {\n",
              "          const element = document.querySelector('#df-887707ed-51b7-4387-a0df-738bb9625189');\n",
              "          const dataTable =\n",
              "            await google.colab.kernel.invokeFunction('convertToInteractive',\n",
              "                                                     [key], {});\n",
              "          if (!dataTable) return;\n",
              "\n",
              "          const docLinkHtml = 'Like what you see? Visit the ' +\n",
              "            '<a target=\"_blank\" href=https://colab.research.google.com/notebooks/data_table.ipynb>data table notebook</a>'\n",
              "            + ' to learn more about interactive tables.';\n",
              "          element.innerHTML = '';\n",
              "          dataTable['output_type'] = 'display_data';\n",
              "          await google.colab.output.renderOutput(dataTable, element);\n",
              "          const docLink = document.createElement('div');\n",
              "          docLink.innerHTML = docLinkHtml;\n",
              "          element.appendChild(docLink);\n",
              "        }\n",
              "      </script>\n",
              "    </div>\n",
              "  </div>\n",
              "  "
            ]
          },
          "metadata": {},
          "execution_count": 4
        }
      ]
    },
    {
      "cell_type": "code",
      "source": [
        "df_time_matrix = pd.read_csv('/content/drive/MyDrive/PJS/01_Input/Daten_v1_clean/04_Team_Schneidzeit/cut_time_constants.csv', index_col= 0)\n",
        "df_time_matrix"
      ],
      "metadata": {
        "id": "P3woiEqn1dn_",
        "colab": {
          "base_uri": "https://localhost:8080/"
        },
        "outputId": "f4bcf84c-99fe-48d0-fa1c-0d4c55ddccd7"
      },
      "execution_count": null,
      "outputs": [
        {
          "output_type": "execute_result",
          "data": {
            "text/plain": [
              "          250       170       135\n",
              "b17  0.004834       NaN  0.004365\n",
              "a18       NaN  0.011078  0.011486"
            ],
            "text/html": [
              "\n",
              "  <div id=\"df-c63848fb-33a9-476d-b3b8-a3262d2f625e\">\n",
              "    <div class=\"colab-df-container\">\n",
              "      <div>\n",
              "<style scoped>\n",
              "    .dataframe tbody tr th:only-of-type {\n",
              "        vertical-align: middle;\n",
              "    }\n",
              "\n",
              "    .dataframe tbody tr th {\n",
              "        vertical-align: top;\n",
              "    }\n",
              "\n",
              "    .dataframe thead th {\n",
              "        text-align: right;\n",
              "    }\n",
              "</style>\n",
              "<table border=\"1\" class=\"dataframe\">\n",
              "  <thead>\n",
              "    <tr style=\"text-align: right;\">\n",
              "      <th></th>\n",
              "      <th>250</th>\n",
              "      <th>170</th>\n",
              "      <th>135</th>\n",
              "    </tr>\n",
              "  </thead>\n",
              "  <tbody>\n",
              "    <tr>\n",
              "      <th>b17</th>\n",
              "      <td>0.004834</td>\n",
              "      <td>NaN</td>\n",
              "      <td>0.004365</td>\n",
              "    </tr>\n",
              "    <tr>\n",
              "      <th>a18</th>\n",
              "      <td>NaN</td>\n",
              "      <td>0.011078</td>\n",
              "      <td>0.011486</td>\n",
              "    </tr>\n",
              "  </tbody>\n",
              "</table>\n",
              "</div>\n",
              "      <button class=\"colab-df-convert\" onclick=\"convertToInteractive('df-c63848fb-33a9-476d-b3b8-a3262d2f625e')\"\n",
              "              title=\"Convert this dataframe to an interactive table.\"\n",
              "              style=\"display:none;\">\n",
              "        \n",
              "  <svg xmlns=\"http://www.w3.org/2000/svg\" height=\"24px\"viewBox=\"0 0 24 24\"\n",
              "       width=\"24px\">\n",
              "    <path d=\"M0 0h24v24H0V0z\" fill=\"none\"/>\n",
              "    <path d=\"M18.56 5.44l.94 2.06.94-2.06 2.06-.94-2.06-.94-.94-2.06-.94 2.06-2.06.94zm-11 1L8.5 8.5l.94-2.06 2.06-.94-2.06-.94L8.5 2.5l-.94 2.06-2.06.94zm10 10l.94 2.06.94-2.06 2.06-.94-2.06-.94-.94-2.06-.94 2.06-2.06.94z\"/><path d=\"M17.41 7.96l-1.37-1.37c-.4-.4-.92-.59-1.43-.59-.52 0-1.04.2-1.43.59L10.3 9.45l-7.72 7.72c-.78.78-.78 2.05 0 2.83L4 21.41c.39.39.9.59 1.41.59.51 0 1.02-.2 1.41-.59l7.78-7.78 2.81-2.81c.8-.78.8-2.07 0-2.86zM5.41 20L4 18.59l7.72-7.72 1.47 1.35L5.41 20z\"/>\n",
              "  </svg>\n",
              "      </button>\n",
              "      \n",
              "  <style>\n",
              "    .colab-df-container {\n",
              "      display:flex;\n",
              "      flex-wrap:wrap;\n",
              "      gap: 12px;\n",
              "    }\n",
              "\n",
              "    .colab-df-convert {\n",
              "      background-color: #E8F0FE;\n",
              "      border: none;\n",
              "      border-radius: 50%;\n",
              "      cursor: pointer;\n",
              "      display: none;\n",
              "      fill: #1967D2;\n",
              "      height: 32px;\n",
              "      padding: 0 0 0 0;\n",
              "      width: 32px;\n",
              "    }\n",
              "\n",
              "    .colab-df-convert:hover {\n",
              "      background-color: #E2EBFA;\n",
              "      box-shadow: 0px 1px 2px rgba(60, 64, 67, 0.3), 0px 1px 3px 1px rgba(60, 64, 67, 0.15);\n",
              "      fill: #174EA6;\n",
              "    }\n",
              "\n",
              "    [theme=dark] .colab-df-convert {\n",
              "      background-color: #3B4455;\n",
              "      fill: #D2E3FC;\n",
              "    }\n",
              "\n",
              "    [theme=dark] .colab-df-convert:hover {\n",
              "      background-color: #434B5C;\n",
              "      box-shadow: 0px 1px 3px 1px rgba(0, 0, 0, 0.15);\n",
              "      filter: drop-shadow(0px 1px 2px rgba(0, 0, 0, 0.3));\n",
              "      fill: #FFFFFF;\n",
              "    }\n",
              "  </style>\n",
              "\n",
              "      <script>\n",
              "        const buttonEl =\n",
              "          document.querySelector('#df-c63848fb-33a9-476d-b3b8-a3262d2f625e button.colab-df-convert');\n",
              "        buttonEl.style.display =\n",
              "          google.colab.kernel.accessAllowed ? 'block' : 'none';\n",
              "\n",
              "        async function convertToInteractive(key) {\n",
              "          const element = document.querySelector('#df-c63848fb-33a9-476d-b3b8-a3262d2f625e');\n",
              "          const dataTable =\n",
              "            await google.colab.kernel.invokeFunction('convertToInteractive',\n",
              "                                                     [key], {});\n",
              "          if (!dataTable) return;\n",
              "\n",
              "          const docLinkHtml = 'Like what you see? Visit the ' +\n",
              "            '<a target=\"_blank\" href=https://colab.research.google.com/notebooks/data_table.ipynb>data table notebook</a>'\n",
              "            + ' to learn more about interactive tables.';\n",
              "          element.innerHTML = '';\n",
              "          dataTable['output_type'] = 'display_data';\n",
              "          await google.colab.output.renderOutput(dataTable, element);\n",
              "          const docLink = document.createElement('div');\n",
              "          docLink.innerHTML = docLinkHtml;\n",
              "          element.appendChild(docLink);\n",
              "        }\n",
              "      </script>\n",
              "    </div>\n",
              "  </div>\n",
              "  "
            ]
          },
          "metadata": {},
          "execution_count": 5
        }
      ]
    },
    {
      "cell_type": "markdown",
      "source": [
        "# 4.2 Calculation Cutting Time with Constant\n",
        "- Berechnung der Schneidzeit auf Basis einer Konstante aus den Vergangenheitsdaten.\n",
        "- Zur Bestimmung der optimalen Schneidzeit, wird die optimale Anzahl an cuts benötigt --> Optimierungsproblem\n",
        "- Näherungsweise Lösung aus dem Preprocessing erlaubt Vorhersage mit Extra Trees Regressor.\n",
        "- Berechnung über eine Konstante sind ohne eine reale Schätzung der cuts nicht aussagekräftig.\n",
        "- Die reell geschätzen cuts, könnte auf Basis eines Faktors, der die Abweichungs der historischen cuts von den optimalen cuts zusammenfasst, gut geschätzt werden.\n",
        "- Format und Grammatur am besten als separate Tabelle in DB gespeichert mit Key zu den jeweiligen Flyerdaten - alternativ Spalte in der in jeder Zelle der Wert steht. Erhöhter Speicherbedarf, zunächst vernachlässigbar, funktionell."
      ],
      "metadata": {
        "id": "vOIxVRhoobHy"
      }
    },
    {
      "cell_type": "code",
      "source": [
        "# Auswahl Format und Grammatur als string\n",
        "format = str(df.loc[1, 'format'])\n",
        "grammatur = str(df.loc[1, 'grammatur'])\n",
        "\n",
        "print('format:', format, 'und', 'grammatur:', grammatur)"
      ],
      "metadata": {
        "colab": {
          "base_uri": "https://localhost:8080/"
        },
        "id": "5lCnkpq69s3s",
        "outputId": "f55a6e19-31cd-40de-ae8b-efff24d38910"
      },
      "execution_count": null,
      "outputs": [
        {
          "output_type": "stream",
          "name": "stdout",
          "text": [
            "format: a18 und grammatur: 135\n"
          ]
        }
      ]
    },
    {
      "cell_type": "code",
      "source": [
        "# Auswahl der richtigen Schneidzeit Konstante mit strings\n",
        "const_cut_time = df_time_matrix.loc[format, grammatur]\n",
        "const_cut_time"
      ],
      "metadata": {
        "id": "VTxi6C0z89ZQ",
        "colab": {
          "base_uri": "https://localhost:8080/"
        },
        "outputId": "6f46fad1-c947-426d-d2da-ff433bd689b6"
      },
      "execution_count": null,
      "outputs": [
        {
          "output_type": "execute_result",
          "data": {
            "text/plain": [
              "0.0114858281063378"
            ]
          },
          "metadata": {},
          "execution_count": 18
        }
      ]
    },
    {
      "cell_type": "code",
      "source": [
        "# Multiplizieren der benötigten new_cut auf Basis der new_layer und der count_cut\n",
        "df['new_cut'] = df['new_layer'].multiply(df['count_cut'], fill_value='error')"
      ],
      "metadata": {
        "id": "Ly8U7mcYI2K3"
      },
      "execution_count": null,
      "outputs": []
    },
    {
      "cell_type": "code",
      "source": [
        "# Berechne Schneidzeit mit Konstante\n",
        "df = df.assign(cutting_time_count = lambda x: (x['new_cut'] * const_cut_time))"
      ],
      "metadata": {
        "id": "Dv9MnATs40gL"
      },
      "execution_count": null,
      "outputs": []
    },
    {
      "cell_type": "markdown",
      "source": [
        "# 4.3 Evaluation Cutting Time with Constant"
      ],
      "metadata": {
        "id": "znSWMsw1Juvd"
      }
    },
    {
      "cell_type": "code",
      "source": [
        "#df = df.assign(cutting_time_count_min = lambda x: (x['cutting_time_count'] * 60))"
      ],
      "metadata": {
        "id": "P4srjbyfFQby"
      },
      "execution_count": null,
      "outputs": []
    },
    {
      "cell_type": "code",
      "source": [
        "#df['cutting_time_count_min']"
      ],
      "metadata": {
        "id": "uILjqk6dFLQw"
      },
      "execution_count": null,
      "outputs": []
    },
    {
      "cell_type": "code",
      "source": [
        "cols = df.columns\n",
        "cols"
      ],
      "metadata": {
        "colab": {
          "base_uri": "https://localhost:8080/"
        },
        "id": "rcLN15J4FdQS",
        "outputId": "9a3d9f59-c104-4135-bca0-42b1407db52f"
      },
      "execution_count": null,
      "outputs": [
        {
          "output_type": "execute_result",
          "data": {
            "text/plain": [
              "Index(['DocName', 'x_left', 'x_right', 'y_bot', 'y_top', 'x_sheetsize',\n",
              "       'y_sheetsize', 'BSig', 'MarBot', 'MarLeft', 'MarRight', 'MarTop',\n",
              "       'Orient', 'JobID', 'ProjectID', 'ProductPart', 'Day', 'Month', 'Year',\n",
              "       'Priority', 'amount', 'cut_time', 'cuts', 'layer', 'cut_layer',\n",
              "       'format', 'grammatur', 'width', 'heigh', 'new_layer', 'count_cut',\n",
              "       'num_flyer', 'new_cut', 'cutting_time_count'],\n",
              "      dtype='object')"
            ]
          },
          "metadata": {},
          "execution_count": 14
        }
      ]
    },
    {
      "cell_type": "code",
      "source": [
        "df_comp = df[['JobID', 'ProjectID', 'DocName', 'amount', 'cut_time', 'cuts', 'layer', 'cut_layer', 'format', 'grammatur', 'new_layer', 'count_cut', 'new_cut', 'cutting_time_count']] # 'cutting_time_min']]"
      ],
      "metadata": {
        "id": "Zqr7zd3HGFyZ"
      },
      "execution_count": null,
      "outputs": []
    },
    {
      "cell_type": "code",
      "source": [
        "check = df_comp['cut_time'] / df_comp['cuts']\n",
        "avg_act_time = check.mean()\n",
        "avg_act_time\n",
        "# muss natürlich das gleiche sein, weil man ja new_cut* avg_act_time nimmt"
      ],
      "metadata": {
        "colab": {
          "base_uri": "https://localhost:8080/"
        },
        "id": "cWTezHupGPBZ",
        "outputId": "891d2961-9e84-47fe-94bb-ac35c1eb1b47"
      },
      "execution_count": null,
      "outputs": [
        {
          "output_type": "execute_result",
          "data": {
            "text/plain": [
              "0.011506434634032336"
            ]
          },
          "metadata": {},
          "execution_count": 23
        }
      ]
    },
    {
      "cell_type": "code",
      "source": [
        "check2 = df_comp['cutting_time_count'] / df_comp['new_cut']\n",
        "avg_pred_time = check2.mean()\n",
        "avg_pred_time"
      ],
      "metadata": {
        "colab": {
          "base_uri": "https://localhost:8080/"
        },
        "id": "S5jTiwcQIX2i",
        "outputId": "663a807a-e137-447b-bfed-67253446c434"
      },
      "execution_count": null,
      "outputs": [
        {
          "output_type": "execute_result",
          "data": {
            "text/plain": [
              "0.011485828106337696"
            ]
          },
          "metadata": {},
          "execution_count": 24
        }
      ]
    },
    {
      "cell_type": "markdown",
      "source": [
        "## Compare Cutting Time in Total\n"
      ],
      "metadata": {
        "id": "KfSLSLZgDsZn"
      }
    },
    {
      "cell_type": "code",
      "source": [
        "sum_cut_time=df['cut_time'].sum()\n",
        "sum_cut_time"
      ],
      "metadata": {
        "colab": {
          "base_uri": "https://localhost:8080/"
        },
        "id": "6d5k5eZsDvTU",
        "outputId": "c56b368d-12f6-4523-e1fe-681f8fbc0877"
      },
      "execution_count": null,
      "outputs": [
        {
          "output_type": "execute_result",
          "data": {
            "text/plain": [
              "908.3476"
            ]
          },
          "metadata": {},
          "execution_count": 25
        }
      ]
    },
    {
      "cell_type": "code",
      "source": [
        "sum_cuts = df['cuts'].sum()\n",
        "sum_cuts"
      ],
      "metadata": {
        "colab": {
          "base_uri": "https://localhost:8080/"
        },
        "id": "rrxEjvyjEHks",
        "outputId": "99b6e3b2-3127-4cb1-c787-4daf871a1f71"
      },
      "execution_count": null,
      "outputs": [
        {
          "output_type": "execute_result",
          "data": {
            "text/plain": [
              "100509.0"
            ]
          },
          "metadata": {},
          "execution_count": 26
        }
      ]
    },
    {
      "cell_type": "code",
      "source": [
        "sum_new_time = df['cutting_time_count'].sum()\n",
        "sum_new_time"
      ],
      "metadata": {
        "colab": {
          "base_uri": "https://localhost:8080/"
        },
        "id": "D0JQFRi1D804",
        "outputId": "7a3e3597-fc4e-456f-aa80-598cc4a6507c"
      },
      "execution_count": null,
      "outputs": [
        {
          "output_type": "execute_result",
          "data": {
            "text/plain": [
              "1325.8206241426785"
            ]
          },
          "metadata": {},
          "execution_count": 27
        }
      ]
    },
    {
      "cell_type": "code",
      "source": [
        "sum_new_cut = df['new_cut'].sum()\n",
        "sum_new_cut"
      ],
      "metadata": {
        "colab": {
          "base_uri": "https://localhost:8080/"
        },
        "id": "mXUG-5lAEPAD",
        "outputId": "00abe0db-c77d-401c-eb3a-93197cde62e1"
      },
      "execution_count": null,
      "outputs": [
        {
          "output_type": "execute_result",
          "data": {
            "text/plain": [
              "115431.0"
            ]
          },
          "metadata": {},
          "execution_count": 28
        }
      ]
    },
    {
      "cell_type": "markdown",
      "source": [
        "## Variance in Total"
      ],
      "metadata": {
        "id": "xZGt-cc-EEEY"
      }
    },
    {
      "cell_type": "code",
      "source": [
        "variance = (abs((sum_cut_time - sum_new_time)) / sum_new_time) * 100\n",
        "variance"
      ],
      "metadata": {
        "id": "PwTCVC25Jt8C"
      },
      "execution_count": null,
      "outputs": []
    },
    {
      "cell_type": "markdown",
      "source": [
        "## Variance per JobID"
      ],
      "metadata": {
        "id": "OSYAGel8YYrt"
      }
    },
    {
      "cell_type": "code",
      "source": [
        "def calc_diff(df_comp):\n",
        "\n",
        "  diff_list = []\n",
        "  list_cut_time = []\n",
        "  list_cutting = []\n",
        "\n",
        "  for index, row in df_comp.iterrows():\n",
        "    list_cut_time.append(row['cut_time'])\n",
        "    list_cutting.append(row['cutting_time_count'])\n",
        "\n",
        "    diff = (abs((row['cut_time'] - row['cutting_time_count'])) / row['cutting_time_count']) \n",
        "    diff_list.append(diff)\n",
        "  # print(list_cut_time)\n",
        "  # print(list_cutting)\n",
        "  # print(diff_list)\n",
        "  print((sum(diff_list) / len(diff_list))*100)\n",
        "  return diff_list"
      ],
      "metadata": {
        "id": "ITOlGPQULtAc"
      },
      "execution_count": null,
      "outputs": []
    },
    {
      "cell_type": "code",
      "source": [
        "diff = calc_diff(df_comp)"
      ],
      "metadata": {
        "id": "0qlzFOrtNDkk"
      },
      "execution_count": null,
      "outputs": []
    },
    {
      "cell_type": "markdown",
      "source": [
        "# 4.4 Feature Engineering"
      ],
      "metadata": {
        "id": "XZCoh8hBPLZH"
      }
    },
    {
      "cell_type": "markdown",
      "source": [
        "## Klassifizierung der Komplexität (eingefügt aus 02_Matrix)\n",
        "\n",
        "0 = Leicht\n",
        "\n",
        "1 = Mittel\n",
        "\n",
        "2 = Schwierig"
      ],
      "metadata": {
        "id": "17gr__keGW7s"
      }
    },
    {
      "cell_type": "code",
      "source": [
        "def get_abin(df, job_ID):\n",
        "  abin = df.loc[df['JobID'] == job_ID]\n",
        "  return abin"
      ],
      "metadata": {
        "id": "SEBS5lQCtFzF"
      },
      "execution_count": null,
      "outputs": []
    },
    {
      "cell_type": "code",
      "source": [
        "def calc_measures(df):\n",
        "  df['width'] = abs(df['x_left'] - df['x_right'])\n",
        "  df['height'] = abs(df['y_bot'] - df['y_top'])\n",
        "  return df"
      ],
      "metadata": {
        "id": "d123y-LBjeYl"
      },
      "execution_count": null,
      "outputs": []
    },
    {
      "cell_type": "code",
      "source": [
        "def calc_complex(dfs):\n",
        "  for df in dfs:\n",
        "    df = dfs[df]\n",
        "\n",
        "    # Berechnung der Anzahl Flyer pro JobID\n",
        "    df['num_flyer'] = df.groupby('JobID')['JobID'].transform('count')\n",
        "    df['num_flyer'] = df['num_flyer'].astype(float)\n",
        "\n",
        "    # Einstufung der Komplexität der einzelnen Layouts\n",
        "    df['complexity'] = ''\n",
        "    # Wenn 4 oder weniger Flyer auf dem Bogen sind, ist das Layout einfach = 0\n",
        "    df.loc[df[\"num_flyer\"] <= 15, \"complexity\"] = 0\n",
        "    # Wenn mehr als 5 Flyer auf dem Bogen sind, ist das Layout mittel = 1\n",
        "    df.loc[df[\"num_flyer\"] >= 16, \"complexity\"] = 1\n",
        "    \n",
        "\n",
        "    # Berechnung der hohen Komplexität: Wenn es eine große Anzahl an Flyer und viele unterschiedliche Größen gibt = 2 \n",
        "\n",
        "    list_JobID = np.unique(df['JobID']).tolist()\n",
        "    df = calc_measures(df)\n",
        "\n",
        "    for id in list_JobID:\n",
        "\n",
        "      abin = get_abin(df, id)\n",
        "      for index, row in abin.iterrows():\n",
        "      # Zur Berechnung der unterschiedlichen Größen:\n",
        "        x_boxes = abin['width'].tolist() + abin['height'].tolist()\n",
        "        y_boxes = abin['width'].tolist() + abin['height'].tolist()\n",
        "        x_boxes = pd.unique(x_boxes).tolist()\n",
        "        y_boxes = pd.unique(y_boxes).tolist()\n",
        "        boxes = list((x_boxes) + (y_boxes))\n",
        "      # Gibt es viele unterschiedliche Größen? 50 = 25 unterschiedlich große Flyer\n",
        "      #####\n",
        "      #####\n",
        "      # Evtl. hier ersetzen durch: wenn die Länge der Liste gleich lang oder fast so lang ist wie die Anzahl an Flyer\n",
        "      ####\n",
        "      ####\n",
        "        if len(boxes) >= 60:\n",
        "          df.loc[df[\"num_flyer\"] >= 16, \"complexity\"] = 2\n",
        "\n",
        "    \n",
        "    print(df)\n",
        "  return dfs"
      ],
      "metadata": {
        "id": "dnjE9VVws9ER"
      },
      "execution_count": null,
      "outputs": []
    },
    {
      "cell_type": "code",
      "source": [
        "dfs = calc_complex(dfs)"
      ],
      "metadata": {
        "id": "QCrV1ghhtR1c",
        "colab": {
          "base_uri": "https://localhost:8080/",
          "height": 167
        },
        "outputId": "f1eed778-978b-4a20-9520-df7b521ab19a"
      },
      "execution_count": null,
      "outputs": [
        {
          "output_type": "error",
          "ename": "NameError",
          "evalue": "ignored",
          "traceback": [
            "\u001b[0;31m---------------------------------------------------------------------------\u001b[0m",
            "\u001b[0;31mNameError\u001b[0m                                 Traceback (most recent call last)",
            "\u001b[0;32m<ipython-input-50-f7ae8726d891>\u001b[0m in \u001b[0;36m<module>\u001b[0;34m()\u001b[0m\n\u001b[0;32m----> 1\u001b[0;31m \u001b[0mdfs\u001b[0m \u001b[0;34m=\u001b[0m \u001b[0mcalc_complex\u001b[0m\u001b[0;34m(\u001b[0m\u001b[0mdfs\u001b[0m\u001b[0;34m)\u001b[0m\u001b[0;34m\u001b[0m\u001b[0;34m\u001b[0m\u001b[0m\n\u001b[0m",
            "\u001b[0;31mNameError\u001b[0m: name 'dfs' is not defined"
          ]
        }
      ]
    },
    {
      "cell_type": "markdown",
      "source": [
        "Matrix Komplexität"
      ],
      "metadata": {
        "id": "1cwnliQr0ATf"
      }
    },
    {
      "cell_type": "code",
      "source": [
        "def calc_complex_time(dfs):\n",
        "  list_zero = []\n",
        "  list_one = []\n",
        "  list_two = []\n",
        "    \n",
        "\n",
        "  for i in dfs:\n",
        "    complex_dict = dfs[i].groupby('complexity')['cut_time'].mean()\n",
        "    complex_dict = complex_dict.to_dict()\n",
        "\n",
        "    key = 0\n",
        "    if key in complex_dict.keys():\n",
        "      list_zero.append(complex_dict[key])\n",
        "\n",
        "    key = 1\n",
        "    if key in complex_dict.keys():\n",
        "      list_one.append(complex_dict[key])\n",
        "\n",
        "    key = 2\n",
        "    if key in complex_dict.keys():\n",
        "      list_two.append(complex_dict[key])\n",
        "  \n",
        "  print('list0', list_zero)\n",
        "  print('list1', list_one)\n",
        "  print('list2', list_two)\n",
        "\n",
        "  \n",
        "  return list_zero, list_one, list_two, test"
      ],
      "metadata": {
        "id": "7z1E6gcLUuHy"
      },
      "execution_count": null,
      "outputs": []
    },
    {
      "cell_type": "code",
      "source": [
        "list_zero, list_one, list_two, test = calc_complex_time(dfs=dfs)"
      ],
      "metadata": {
        "id": "jc5d4QdtVRNV"
      },
      "execution_count": null,
      "outputs": []
    },
    {
      "cell_type": "code",
      "source": [
        "def calc_factor(list_zero, list_one, list_two):\n",
        "  mean_list_zero = sum(list_zero) / len(list_zero)\n",
        "  mean_list_one = sum(list_one) / len(list_one)\n",
        "  mean_list_two = sum(list_two) / len(list_two)\n",
        "  print('0:', mean_list_zero)\n",
        "  print('1:', mean_list_one)\n",
        "  print('2:', mean_list_two)\n",
        "\n",
        "  # factor1 = mean_list_one / mean_list_zero\n",
        "  # print('factor1',factor1)\n",
        "\n",
        "  # factor2 = mean_list_two / mean_list_zero\n",
        "  # print('factor2',factor2)\n",
        "\n",
        "  #factor = {'factor1': '', 'factor2': ''}\n",
        "  factor = pd.DataFrame(columns = ['1', '2'], index = ['factor'])\n",
        "\n",
        "  factor['1'] = mean_list_one / mean_list_zero\n",
        "\n",
        "  factor['2'] = mean_list_two / mean_list_zero\n",
        "\n",
        "  \n",
        "  print(factor)\n",
        "  return factor\n",
        "\n",
        "# Weitere Überlegung\n",
        "# Alternative Faktorberechnung basierend auf der jeweiligen durchschnittlichen Schneidzeit\n"
      ],
      "metadata": {
        "id": "ZwNqjYlwaULI"
      },
      "execution_count": null,
      "outputs": []
    },
    {
      "cell_type": "code",
      "source": [
        "factor = calc_factor(list_zero, list_one, list_two)"
      ],
      "metadata": {
        "id": "yP8bZOnva41N"
      },
      "execution_count": null,
      "outputs": []
    },
    {
      "cell_type": "code",
      "source": [
        "factor"
      ],
      "metadata": {
        "id": "6bPdFRXGdY1b"
      },
      "execution_count": null,
      "outputs": []
    },
    {
      "cell_type": "markdown",
      "source": [
        "# 4.5 ExtraTrees"
      ],
      "metadata": {
        "id": "ZrytO8dQfm-_"
      }
    },
    {
      "cell_type": "code",
      "source": [
        "# Calculate num_fyler\n",
        "df['num_flyer'] = df.groupby('JobID')['JobID'].transform('count')"
      ],
      "metadata": {
        "id": "48Pvzb4GU_LL"
      },
      "execution_count": null,
      "outputs": []
    },
    {
      "cell_type": "markdown",
      "source": [
        "### Remove outliers"
      ],
      "metadata": {
        "id": "_8D3I4XglGsy"
      }
    },
    {
      "cell_type": "code",
      "source": [
        "# Boxplot to display outliers\n",
        "import seaborn as sns\n",
        "sns.boxplot(x=df['cut_time'])"
      ],
      "metadata": {
        "id": "FC4Q0wSLkZ8j",
        "outputId": "fd479bd2-1599-40b4-e78f-19081934652c",
        "colab": {
          "base_uri": "https://localhost:8080/",
          "height": 297
        }
      },
      "execution_count": null,
      "outputs": [
        {
          "output_type": "execute_result",
          "data": {
            "text/plain": [
              "<matplotlib.axes._subplots.AxesSubplot at 0x7fb2c2314250>"
            ]
          },
          "metadata": {},
          "execution_count": 54
        },
        {
          "output_type": "display_data",
          "data": {
            "text/plain": [
              "<Figure size 432x288 with 1 Axes>"
            ],
            "image/png": "[encoded data removed]"
          },
          "metadata": {
            "needs_background": "light"
          }
        }
      ]
    },
    {
      "cell_type": "markdown",
      "source": [
        "## Berechnung mit errechneten Werten (aus 03_Preprocessing)"
      ],
      "metadata": {
        "id": "g9ElcvbBVUAe"
      }
    },
    {
      "cell_type": "code",
      "source": [
        "# own_reduced_df = df mit den Werten, die wir selbst berechnet haben\n",
        "own_reduced_df = df[['JobID',  'new_layer', 'new_cut', 'num_flyer', 'cut_time']]\n",
        "own_reduced_df = own_reduced_df.drop_duplicates()"
      ],
      "metadata": {
        "id": "BBCd31EuVdkm"
      },
      "execution_count": null,
      "outputs": []
    },
    {
      "cell_type": "code",
      "source": [
        "array = own_reduced_df.values\n",
        "X = array[:,1:4]\n",
        "y = array[:,4]\n",
        "X"
      ],
      "metadata": {
        "id": "GMslzKpzhj4y",
        "colab": {
          "base_uri": "https://localhost:8080/"
        },
        "outputId": "213ff97c-2d35-4f18-e805-9156d35605fc"
      },
      "execution_count": null,
      "outputs": [
        {
          "output_type": "execute_result",
          "data": {
            "text/plain": [
              "array([[ 2.,  8.,  1.],\n",
              "       [ 2.,  8.,  4.],\n",
              "       [ 2.,  8.,  1.],\n",
              "       ...,\n",
              "       [ 2., 14.,  4.],\n",
              "       [ 1.,  7.,  3.],\n",
              "       [ 1.,  7.,  4.]])"
            ]
          },
          "metadata": {},
          "execution_count": 31
        }
      ]
    },
    {
      "cell_type": "code",
      "source": [
        "from sklearn.model_selection import train_test_split\n",
        "X_train, X_test, y_train, y_test = train_test_split(X, y, random_state=42)"
      ],
      "metadata": {
        "id": "KviqI-hEVhRN"
      },
      "execution_count": null,
      "outputs": []
    },
    {
      "cell_type": "code",
      "source": [
        "from sklearn.ensemble import ExtraTreesRegressor\n",
        "reg = ExtraTreesRegressor(n_estimators=100, random_state=42).fit(X_train, y_train)\n",
        "etr_pred = reg.predict(X_test)\n",
        "print('reg_score', reg.score(X_test, y_test))\n",
        "from sklearn import metrics\n",
        "Mae = metrics.mean_absolute_error(y_test, etr_pred)\n",
        "print('MAE', metrics.mean_absolute_error(y_test, etr_pred))\n",
        "print('MSE', metrics.mean_squared_error(y_test, etr_pred))\n",
        "import numpy as np\n",
        "print('RMSE', np.sqrt(metrics.mean_squared_error(y_test, etr_pred)))\n",
        "from sklearn.metrics import r2_score\n",
        "print('R-Squared Score', r2_score(y_test,etr_pred))"
      ],
      "metadata": {
        "colab": {
          "base_uri": "https://localhost:8080/"
        },
        "id": "WODDAVptjhYL",
        "outputId": "8903d97d-e19f-47ed-a58e-67ca168931ec"
      },
      "execution_count": null,
      "outputs": [
        {
          "output_type": "stream",
          "name": "stdout",
          "text": [
            "reg_score 0.7332637848788515\n",
            "MAE 0.05979650251635191\n",
            "MSE 0.009989913642540373\n",
            "RMSE 0.09994955548945865\n",
            "R-Squared Score 0.7332637848788515\n"
          ]
        }
      ]
    },
    {
      "cell_type": "code",
      "source": [
        "# Speichern der Vorhersage im df\n",
        "own_pred = reg.predict(X)\n",
        "own_reduced_df['own_pred'] = own_pred\n",
        "own_reduced_df"
      ],
      "metadata": {
        "colab": {
          "base_uri": "https://localhost:8080/",
          "height": 423
        },
        "id": "Erl-cYPzjvKw",
        "outputId": "a3ea9a93-5aac-42c4-9415-218bcfb93ab0"
      },
      "execution_count": null,
      "outputs": [
        {
          "output_type": "execute_result",
          "data": {
            "text/plain": [
              "           JobID  new_layer  new_cut  num_flyer  cut_time  own_pred\n",
              "0     6665075005        2.0      8.0          1    0.0704  0.123080\n",
              "1     6665075003        2.0      8.0          4    0.0509  0.050900\n",
              "5     6665075001        2.0      8.0          1    0.0364  0.123080\n",
              "6     6665075006        2.0      8.0          1    0.0998  0.123080\n",
              "7     6665075004        2.0      8.0          1    0.1036  0.123080\n",
              "...          ...        ...      ...        ...       ...       ...\n",
              "4123  6713200905        9.0     81.0          3    1.4915  0.901268\n",
              "4126  6712464613        1.0     11.0          8    0.0807  0.098012\n",
              "4134  6715117115        2.0     14.0          4    0.1801  0.132521\n",
              "4138  6712464615        1.0      7.0          3    0.0581  0.129050\n",
              "4141  6712464610        1.0      7.0          4    0.1115  0.090669\n",
              "\n",
              "[976 rows x 6 columns]"
            ],
            "text/html": [
              "\n",
              "  <div id=\"df-e5298bd2-aa9d-4144-bbf7-7991b3b288c9\">\n",
              "    <div class=\"colab-df-container\">\n",
              "      <div>\n",
              "<style scoped>\n",
              "    .dataframe tbody tr th:only-of-type {\n",
              "        vertical-align: middle;\n",
              "    }\n",
              "\n",
              "    .dataframe tbody tr th {\n",
              "        vertical-align: top;\n",
              "    }\n",
              "\n",
              "    .dataframe thead th {\n",
              "        text-align: right;\n",
              "    }\n",
              "</style>\n",
              "<table border=\"1\" class=\"dataframe\">\n",
              "  <thead>\n",
              "    <tr style=\"text-align: right;\">\n",
              "      <th></th>\n",
              "      <th>JobID</th>\n",
              "      <th>new_layer</th>\n",
              "      <th>new_cut</th>\n",
              "      <th>num_flyer</th>\n",
              "      <th>cut_time</th>\n",
              "      <th>own_pred</th>\n",
              "    </tr>\n",
              "  </thead>\n",
              "  <tbody>\n",
              "    <tr>\n",
              "      <th>0</th>\n",
              "      <td>6665075005</td>\n",
              "      <td>2.0</td>\n",
              "      <td>8.0</td>\n",
              "      <td>1</td>\n",
              "      <td>0.0704</td>\n",
              "      <td>0.123080</td>\n",
              "    </tr>\n",
              "    <tr>\n",
              "      <th>1</th>\n",
              "      <td>6665075003</td>\n",
              "      <td>2.0</td>\n",
              "      <td>8.0</td>\n",
              "      <td>4</td>\n",
              "      <td>0.0509</td>\n",
              "      <td>0.050900</td>\n",
              "    </tr>\n",
              "    <tr>\n",
              "      <th>5</th>\n",
              "      <td>6665075001</td>\n",
              "      <td>2.0</td>\n",
              "      <td>8.0</td>\n",
              "      <td>1</td>\n",
              "      <td>0.0364</td>\n",
              "      <td>0.123080</td>\n",
              "    </tr>\n",
              "    <tr>\n",
              "      <th>6</th>\n",
              "      <td>6665075006</td>\n",
              "      <td>2.0</td>\n",
              "      <td>8.0</td>\n",
              "      <td>1</td>\n",
              "      <td>0.0998</td>\n",
              "      <td>0.123080</td>\n",
              "    </tr>\n",
              "    <tr>\n",
              "      <th>7</th>\n",
              "      <td>6665075004</td>\n",
              "      <td>2.0</td>\n",
              "      <td>8.0</td>\n",
              "      <td>1</td>\n",
              "      <td>0.1036</td>\n",
              "      <td>0.123080</td>\n",
              "    </tr>\n",
              "    <tr>\n",
              "      <th>...</th>\n",
              "      <td>...</td>\n",
              "      <td>...</td>\n",
              "      <td>...</td>\n",
              "      <td>...</td>\n",
              "      <td>...</td>\n",
              "      <td>...</td>\n",
              "    </tr>\n",
              "    <tr>\n",
              "      <th>4123</th>\n",
              "      <td>6713200905</td>\n",
              "      <td>9.0</td>\n",
              "      <td>81.0</td>\n",
              "      <td>3</td>\n",
              "      <td>1.4915</td>\n",
              "      <td>0.901268</td>\n",
              "    </tr>\n",
              "    <tr>\n",
              "      <th>4126</th>\n",
              "      <td>6712464613</td>\n",
              "      <td>1.0</td>\n",
              "      <td>11.0</td>\n",
              "      <td>8</td>\n",
              "      <td>0.0807</td>\n",
              "      <td>0.098012</td>\n",
              "    </tr>\n",
              "    <tr>\n",
              "      <th>4134</th>\n",
              "      <td>6715117115</td>\n",
              "      <td>2.0</td>\n",
              "      <td>14.0</td>\n",
              "      <td>4</td>\n",
              "      <td>0.1801</td>\n",
              "      <td>0.132521</td>\n",
              "    </tr>\n",
              "    <tr>\n",
              "      <th>4138</th>\n",
              "      <td>6712464615</td>\n",
              "      <td>1.0</td>\n",
              "      <td>7.0</td>\n",
              "      <td>3</td>\n",
              "      <td>0.0581</td>\n",
              "      <td>0.129050</td>\n",
              "    </tr>\n",
              "    <tr>\n",
              "      <th>4141</th>\n",
              "      <td>6712464610</td>\n",
              "      <td>1.0</td>\n",
              "      <td>7.0</td>\n",
              "      <td>4</td>\n",
              "      <td>0.1115</td>\n",
              "      <td>0.090669</td>\n",
              "    </tr>\n",
              "  </tbody>\n",
              "</table>\n",
              "<p>976 rows × 6 columns</p>\n",
              "</div>\n",
              "      <button class=\"colab-df-convert\" onclick=\"convertToInteractive('df-e5298bd2-aa9d-4144-bbf7-7991b3b288c9')\"\n",
              "              title=\"Convert this dataframe to an interactive table.\"\n",
              "              style=\"display:none;\">\n",
              "        \n",
              "  <svg xmlns=\"http://www.w3.org/2000/svg\" height=\"24px\"viewBox=\"0 0 24 24\"\n",
              "       width=\"24px\">\n",
              "    <path d=\"M0 0h24v24H0V0z\" fill=\"none\"/>\n",
              "    <path d=\"M18.56 5.44l.94 2.06.94-2.06 2.06-.94-2.06-.94-.94-2.06-.94 2.06-2.06.94zm-11 1L8.5 8.5l.94-2.06 2.06-.94-2.06-.94L8.5 2.5l-.94 2.06-2.06.94zm10 10l.94 2.06.94-2.06 2.06-.94-2.06-.94-.94-2.06-.94 2.06-2.06.94z\"/><path d=\"M17.41 7.96l-1.37-1.37c-.4-.4-.92-.59-1.43-.59-.52 0-1.04.2-1.43.59L10.3 9.45l-7.72 7.72c-.78.78-.78 2.05 0 2.83L4 21.41c.39.39.9.59 1.41.59.51 0 1.02-.2 1.41-.59l7.78-7.78 2.81-2.81c.8-.78.8-2.07 0-2.86zM5.41 20L4 18.59l7.72-7.72 1.47 1.35L5.41 20z\"/>\n",
              "  </svg>\n",
              "      </button>\n",
              "      \n",
              "  <style>\n",
              "    .colab-df-container {\n",
              "      display:flex;\n",
              "      flex-wrap:wrap;\n",
              "      gap: 12px;\n",
              "    }\n",
              "\n",
              "    .colab-df-convert {\n",
              "      background-color: #E8F0FE;\n",
              "      border: none;\n",
              "      border-radius: 50%;\n",
              "      cursor: pointer;\n",
              "      display: none;\n",
              "      fill: #1967D2;\n",
              "      height: 32px;\n",
              "      padding: 0 0 0 0;\n",
              "      width: 32px;\n",
              "    }\n",
              "\n",
              "    .colab-df-convert:hover {\n",
              "      background-color: #E2EBFA;\n",
              "      box-shadow: 0px 1px 2px rgba(60, 64, 67, 0.3), 0px 1px 3px 1px rgba(60, 64, 67, 0.15);\n",
              "      fill: #174EA6;\n",
              "    }\n",
              "\n",
              "    [theme=dark] .colab-df-convert {\n",
              "      background-color: #3B4455;\n",
              "      fill: #D2E3FC;\n",
              "    }\n",
              "\n",
              "    [theme=dark] .colab-df-convert:hover {\n",
              "      background-color: #434B5C;\n",
              "      box-shadow: 0px 1px 3px 1px rgba(0, 0, 0, 0.15);\n",
              "      filter: drop-shadow(0px 1px 2px rgba(0, 0, 0, 0.3));\n",
              "      fill: #FFFFFF;\n",
              "    }\n",
              "  </style>\n",
              "\n",
              "      <script>\n",
              "        const buttonEl =\n",
              "          document.querySelector('#df-e5298bd2-aa9d-4144-bbf7-7991b3b288c9 button.colab-df-convert');\n",
              "        buttonEl.style.display =\n",
              "          google.colab.kernel.accessAllowed ? 'block' : 'none';\n",
              "\n",
              "        async function convertToInteractive(key) {\n",
              "          const element = document.querySelector('#df-e5298bd2-aa9d-4144-bbf7-7991b3b288c9');\n",
              "          const dataTable =\n",
              "            await google.colab.kernel.invokeFunction('convertToInteractive',\n",
              "                                                     [key], {});\n",
              "          if (!dataTable) return;\n",
              "\n",
              "          const docLinkHtml = 'Like what you see? Visit the ' +\n",
              "            '<a target=\"_blank\" href=https://colab.research.google.com/notebooks/data_table.ipynb>data table notebook</a>'\n",
              "            + ' to learn more about interactive tables.';\n",
              "          element.innerHTML = '';\n",
              "          dataTable['output_type'] = 'display_data';\n",
              "          await google.colab.output.renderOutput(dataTable, element);\n",
              "          const docLink = document.createElement('div');\n",
              "          docLink.innerHTML = docLinkHtml;\n",
              "          element.appendChild(docLink);\n",
              "        }\n",
              "      </script>\n",
              "    </div>\n",
              "  </div>\n",
              "  "
            ]
          },
          "metadata": {},
          "execution_count": 34
        }
      ]
    },
    {
      "cell_type": "markdown",
      "source": [
        "### Abweichung gesamt"
      ],
      "metadata": {
        "id": "incLK3tzXZY7"
      }
    },
    {
      "cell_type": "code",
      "source": [
        "sum_pred_time = own_reduced_df['own_pred'].sum()\n",
        "sum_pred_time"
      ],
      "metadata": {
        "id": "2JlrN0MDVsQP",
        "outputId": "096536ea-3fa3-49da-f76c-450f03e4609f",
        "colab": {
          "base_uri": "https://localhost:8080/"
        }
      },
      "execution_count": null,
      "outputs": [
        {
          "output_type": "execute_result",
          "data": {
            "text/plain": [
              "183.2089898538975"
            ]
          },
          "metadata": {},
          "execution_count": 35
        }
      ]
    },
    {
      "cell_type": "code",
      "source": [
        "sum_time = own_reduced_df['cut_time'].sum()\n",
        "sum_time"
      ],
      "metadata": {
        "id": "7PdV7SOIVyze",
        "outputId": "dfaeda08-816d-4fc8-e3b3-376cf5a2275c",
        "colab": {
          "base_uri": "https://localhost:8080/"
        }
      },
      "execution_count": null,
      "outputs": [
        {
          "output_type": "execute_result",
          "data": {
            "text/plain": [
              "183.33599999999998"
            ]
          },
          "metadata": {},
          "execution_count": 36
        }
      ]
    },
    {
      "cell_type": "code",
      "source": [
        "# Differenz\n",
        "diff = ((sum_time - sum_pred_time)/ sum_pred_time) * 100\n",
        "diff"
      ],
      "metadata": {
        "id": "37O_sWZmV2HJ",
        "outputId": "05111317-3dfc-4e11-c018-7fb8166514ec",
        "colab": {
          "base_uri": "https://localhost:8080/"
        }
      },
      "execution_count": null,
      "outputs": [
        {
          "output_type": "execute_result",
          "data": {
            "text/plain": [
              "0.06932528049184604"
            ]
          },
          "metadata": {},
          "execution_count": 37
        }
      ]
    },
    {
      "cell_type": "markdown",
      "source": [
        "### Abweichung pro JobID"
      ],
      "metadata": {
        "id": "0wBtJfjYXbKf"
      }
    },
    {
      "cell_type": "code",
      "source": [
        "def calc_own_diff(df_comp):\n",
        "\n",
        "  diff_list = []\n",
        "  list_cut_time = []\n",
        "  list_cutting = []\n",
        "\n",
        "  for index, row in df_comp.iterrows():\n",
        "    list_cut_time.append(row['cut_time'])\n",
        "    list_cutting.append(row['own_pred'])\n",
        "\n",
        "    diff = (abs((row['cut_time'] - row['own_pred'])) / row['own_pred']) \n",
        "    diff_list.append(diff)\n",
        "  # print(list_cut_time)\n",
        "  # print(list_cutting)\n",
        "  # print(diff_list)\n",
        "  print((sum(diff_list) / len(diff_list))*100)\n",
        "  return diff_list"
      ],
      "metadata": {
        "id": "4RJKrKEAXnxS"
      },
      "execution_count": null,
      "outputs": []
    },
    {
      "cell_type": "code",
      "source": [
        "own_diff = calc_own_diff(df_comp=own_reduced_df)"
      ],
      "metadata": {
        "colab": {
          "base_uri": "https://localhost:8080/"
        },
        "id": "kyISzxMZXpWw",
        "outputId": "ebabfcb2-82cc-4f53-d3bd-bdb4981235b6"
      },
      "execution_count": null,
      "outputs": [
        {
          "output_type": "stream",
          "name": "stdout",
          "text": [
            "35.28534513318496\n"
          ]
        }
      ]
    },
    {
      "cell_type": "markdown",
      "source": [
        "## Vorhersage mit historischen Werten"
      ],
      "metadata": {
        "id": "fK1_a2I1mRDx"
      }
    },
    {
      "cell_type": "code",
      "source": [
        "# reduced_df = df mit ursprünglichen cut/ layer werten\n",
        "reduced_df = df[['JobID', 'num_flyer', 'layer', 'cuts', 'cut_time']]\n",
        "reduced_df = reduced_df.drop_duplicates()"
      ],
      "metadata": {
        "id": "H4d2SXvfWfyu"
      },
      "execution_count": null,
      "outputs": []
    },
    {
      "cell_type": "code",
      "source": [
        "array = reduced_df.values\n",
        "X = array[:,1:4]\n",
        "y = array[:,4]\n",
        "X"
      ],
      "metadata": {
        "colab": {
          "base_uri": "https://localhost:8080/"
        },
        "id": "PZo0Z_WokL84",
        "outputId": "84d454a6-1abd-4fca-92ed-86dfcb8440d0"
      },
      "execution_count": null,
      "outputs": [
        {
          "output_type": "execute_result",
          "data": {
            "text/plain": [
              "array([[ 1.,  1.,  5.],\n",
              "       [ 4.,  1.,  5.],\n",
              "       [ 1.,  1.,  5.],\n",
              "       ...,\n",
              "       [ 4.,  2., 13.],\n",
              "       [ 3.,  1.,  8.],\n",
              "       [ 4.,  1.,  7.]])"
            ]
          },
          "metadata": {},
          "execution_count": 41
        }
      ]
    },
    {
      "cell_type": "code",
      "source": [
        "from sklearn.model_selection import train_test_split\n",
        "X_train, X_test, y_train, y_test = train_test_split(X, y, random_state=42)"
      ],
      "metadata": {
        "id": "ahiRuEPGWl6W"
      },
      "execution_count": null,
      "outputs": []
    },
    {
      "cell_type": "code",
      "source": [
        "from sklearn.ensemble import ExtraTreesRegressor\n",
        "reg = ExtraTreesRegressor(n_estimators=100, random_state=42).fit(X_train, y_train)\n",
        "etr_pred = reg.predict(X_test)\n",
        "print('reg_score', reg.score(X_test, y_test))\n",
        "from sklearn import metrics\n",
        "Mae = metrics.mean_absolute_error(y_test, etr_pred)\n",
        "print('MAE', metrics.mean_absolute_error(y_test, etr_pred))\n",
        "print('MSE', metrics.mean_squared_error(y_test, etr_pred))\n",
        "import numpy as np\n",
        "print('RMSE', np.sqrt(metrics.mean_squared_error(y_test, etr_pred)))\n",
        "from sklearn.metrics import r2_score\n",
        "print('R-Squared Score', r2_score(y_test,etr_pred))"
      ],
      "metadata": {
        "colab": {
          "base_uri": "https://localhost:8080/"
        },
        "id": "cXQ60yIplh1a",
        "outputId": "027ef21d-bfc0-40a1-8e43-d64e739aed48"
      },
      "execution_count": null,
      "outputs": [
        {
          "output_type": "stream",
          "name": "stdout",
          "text": [
            "reg_score 0.7176850901954079\n",
            "MAE 0.05887506111602692\n",
            "MSE 0.010573373276922671\n",
            "RMSE 0.10282690930356057\n",
            "R-Squared Score 0.7176850901954079\n"
          ]
        }
      ]
    },
    {
      "cell_type": "code",
      "source": [
        "# Speichern der Vorhersage im df\n",
        "pred = reg.predict(X)\n",
        "reduced_df['pred'] = pred\n",
        "reduced_df"
      ],
      "metadata": {
        "colab": {
          "base_uri": "https://localhost:8080/",
          "height": 423
        },
        "id": "SeenbgVrmY2w",
        "outputId": "defea45a-8029-4f6f-8f87-2e6a362263bc"
      },
      "execution_count": null,
      "outputs": [
        {
          "output_type": "execute_result",
          "data": {
            "text/plain": [
              "           JobID  num_flyer  layer   cuts  cut_time      pred\n",
              "0     6665075005          1    1.0    5.0    0.0704  0.074729\n",
              "1     6665075003          4    1.0    5.0    0.0509  0.050900\n",
              "5     6665075001          1    1.0    5.0    0.0364  0.074729\n",
              "6     6665075006          1    1.0    7.0    0.0998  0.085840\n",
              "7     6665075004          1    1.0    5.0    0.1036  0.074729\n",
              "...          ...        ...    ...    ...       ...       ...\n",
              "4123  6713200905          3    9.0  113.0    1.4915  1.060202\n",
              "4126  6712464613          8    1.0    9.0    0.0807  0.091538\n",
              "4134  6715117115          4    2.0   13.0    0.1801  0.167481\n",
              "4138  6712464615          3    1.0    8.0    0.0581  0.104380\n",
              "4141  6712464610          4    1.0    7.0    0.1115  0.090250\n",
              "\n",
              "[976 rows x 6 columns]"
            ],
            "text/html": [
              "\n",
              "  <div id=\"df-b241b53c-997e-428c-ace2-4bac2bdf69c4\">\n",
              "    <div class=\"colab-df-container\">\n",
              "      <div>\n",
              "<style scoped>\n",
              "    .dataframe tbody tr th:only-of-type {\n",
              "        vertical-align: middle;\n",
              "    }\n",
              "\n",
              "    .dataframe tbody tr th {\n",
              "        vertical-align: top;\n",
              "    }\n",
              "\n",
              "    .dataframe thead th {\n",
              "        text-align: right;\n",
              "    }\n",
              "</style>\n",
              "<table border=\"1\" class=\"dataframe\">\n",
              "  <thead>\n",
              "    <tr style=\"text-align: right;\">\n",
              "      <th></th>\n",
              "      <th>JobID</th>\n",
              "      <th>num_flyer</th>\n",
              "      <th>layer</th>\n",
              "      <th>cuts</th>\n",
              "      <th>cut_time</th>\n",
              "      <th>pred</th>\n",
              "    </tr>\n",
              "  </thead>\n",
              "  <tbody>\n",
              "    <tr>\n",
              "      <th>0</th>\n",
              "      <td>6665075005</td>\n",
              "      <td>1</td>\n",
              "      <td>1.0</td>\n",
              "      <td>5.0</td>\n",
              "      <td>0.0704</td>\n",
              "      <td>0.074729</td>\n",
              "    </tr>\n",
              "    <tr>\n",
              "      <th>1</th>\n",
              "      <td>6665075003</td>\n",
              "      <td>4</td>\n",
              "      <td>1.0</td>\n",
              "      <td>5.0</td>\n",
              "      <td>0.0509</td>\n",
              "      <td>0.050900</td>\n",
              "    </tr>\n",
              "    <tr>\n",
              "      <th>5</th>\n",
              "      <td>6665075001</td>\n",
              "      <td>1</td>\n",
              "      <td>1.0</td>\n",
              "      <td>5.0</td>\n",
              "      <td>0.0364</td>\n",
              "      <td>0.074729</td>\n",
              "    </tr>\n",
              "    <tr>\n",
              "      <th>6</th>\n",
              "      <td>6665075006</td>\n",
              "      <td>1</td>\n",
              "      <td>1.0</td>\n",
              "      <td>7.0</td>\n",
              "      <td>0.0998</td>\n",
              "      <td>0.085840</td>\n",
              "    </tr>\n",
              "    <tr>\n",
              "      <th>7</th>\n",
              "      <td>6665075004</td>\n",
              "      <td>1</td>\n",
              "      <td>1.0</td>\n",
              "      <td>5.0</td>\n",
              "      <td>0.1036</td>\n",
              "      <td>0.074729</td>\n",
              "    </tr>\n",
              "    <tr>\n",
              "      <th>...</th>\n",
              "      <td>...</td>\n",
              "      <td>...</td>\n",
              "      <td>...</td>\n",
              "      <td>...</td>\n",
              "      <td>...</td>\n",
              "      <td>...</td>\n",
              "    </tr>\n",
              "    <tr>\n",
              "      <th>4123</th>\n",
              "      <td>6713200905</td>\n",
              "      <td>3</td>\n",
              "      <td>9.0</td>\n",
              "      <td>113.0</td>\n",
              "      <td>1.4915</td>\n",
              "      <td>1.060202</td>\n",
              "    </tr>\n",
              "    <tr>\n",
              "      <th>4126</th>\n",
              "      <td>6712464613</td>\n",
              "      <td>8</td>\n",
              "      <td>1.0</td>\n",
              "      <td>9.0</td>\n",
              "      <td>0.0807</td>\n",
              "      <td>0.091538</td>\n",
              "    </tr>\n",
              "    <tr>\n",
              "      <th>4134</th>\n",
              "      <td>6715117115</td>\n",
              "      <td>4</td>\n",
              "      <td>2.0</td>\n",
              "      <td>13.0</td>\n",
              "      <td>0.1801</td>\n",
              "      <td>0.167481</td>\n",
              "    </tr>\n",
              "    <tr>\n",
              "      <th>4138</th>\n",
              "      <td>6712464615</td>\n",
              "      <td>3</td>\n",
              "      <td>1.0</td>\n",
              "      <td>8.0</td>\n",
              "      <td>0.0581</td>\n",
              "      <td>0.104380</td>\n",
              "    </tr>\n",
              "    <tr>\n",
              "      <th>4141</th>\n",
              "      <td>6712464610</td>\n",
              "      <td>4</td>\n",
              "      <td>1.0</td>\n",
              "      <td>7.0</td>\n",
              "      <td>0.1115</td>\n",
              "      <td>0.090250</td>\n",
              "    </tr>\n",
              "  </tbody>\n",
              "</table>\n",
              "<p>976 rows × 6 columns</p>\n",
              "</div>\n",
              "      <button class=\"colab-df-convert\" onclick=\"convertToInteractive('df-b241b53c-997e-428c-ace2-4bac2bdf69c4')\"\n",
              "              title=\"Convert this dataframe to an interactive table.\"\n",
              "              style=\"display:none;\">\n",
              "        \n",
              "  <svg xmlns=\"http://www.w3.org/2000/svg\" height=\"24px\"viewBox=\"0 0 24 24\"\n",
              "       width=\"24px\">\n",
              "    <path d=\"M0 0h24v24H0V0z\" fill=\"none\"/>\n",
              "    <path d=\"M18.56 5.44l.94 2.06.94-2.06 2.06-.94-2.06-.94-.94-2.06-.94 2.06-2.06.94zm-11 1L8.5 8.5l.94-2.06 2.06-.94-2.06-.94L8.5 2.5l-.94 2.06-2.06.94zm10 10l.94 2.06.94-2.06 2.06-.94-2.06-.94-.94-2.06-.94 2.06-2.06.94z\"/><path d=\"M17.41 7.96l-1.37-1.37c-.4-.4-.92-.59-1.43-.59-.52 0-1.04.2-1.43.59L10.3 9.45l-7.72 7.72c-.78.78-.78 2.05 0 2.83L4 21.41c.39.39.9.59 1.41.59.51 0 1.02-.2 1.41-.59l7.78-7.78 2.81-2.81c.8-.78.8-2.07 0-2.86zM5.41 20L4 18.59l7.72-7.72 1.47 1.35L5.41 20z\"/>\n",
              "  </svg>\n",
              "      </button>\n",
              "      \n",
              "  <style>\n",
              "    .colab-df-container {\n",
              "      display:flex;\n",
              "      flex-wrap:wrap;\n",
              "      gap: 12px;\n",
              "    }\n",
              "\n",
              "    .colab-df-convert {\n",
              "      background-color: #E8F0FE;\n",
              "      border: none;\n",
              "      border-radius: 50%;\n",
              "      cursor: pointer;\n",
              "      display: none;\n",
              "      fill: #1967D2;\n",
              "      height: 32px;\n",
              "      padding: 0 0 0 0;\n",
              "      width: 32px;\n",
              "    }\n",
              "\n",
              "    .colab-df-convert:hover {\n",
              "      background-color: #E2EBFA;\n",
              "      box-shadow: 0px 1px 2px rgba(60, 64, 67, 0.3), 0px 1px 3px 1px rgba(60, 64, 67, 0.15);\n",
              "      fill: #174EA6;\n",
              "    }\n",
              "\n",
              "    [theme=dark] .colab-df-convert {\n",
              "      background-color: #3B4455;\n",
              "      fill: #D2E3FC;\n",
              "    }\n",
              "\n",
              "    [theme=dark] .colab-df-convert:hover {\n",
              "      background-color: #434B5C;\n",
              "      box-shadow: 0px 1px 3px 1px rgba(0, 0, 0, 0.15);\n",
              "      filter: drop-shadow(0px 1px 2px rgba(0, 0, 0, 0.3));\n",
              "      fill: #FFFFFF;\n",
              "    }\n",
              "  </style>\n",
              "\n",
              "      <script>\n",
              "        const buttonEl =\n",
              "          document.querySelector('#df-b241b53c-997e-428c-ace2-4bac2bdf69c4 button.colab-df-convert');\n",
              "        buttonEl.style.display =\n",
              "          google.colab.kernel.accessAllowed ? 'block' : 'none';\n",
              "\n",
              "        async function convertToInteractive(key) {\n",
              "          const element = document.querySelector('#df-b241b53c-997e-428c-ace2-4bac2bdf69c4');\n",
              "          const dataTable =\n",
              "            await google.colab.kernel.invokeFunction('convertToInteractive',\n",
              "                                                     [key], {});\n",
              "          if (!dataTable) return;\n",
              "\n",
              "          const docLinkHtml = 'Like what you see? Visit the ' +\n",
              "            '<a target=\"_blank\" href=https://colab.research.google.com/notebooks/data_table.ipynb>data table notebook</a>'\n",
              "            + ' to learn more about interactive tables.';\n",
              "          element.innerHTML = '';\n",
              "          dataTable['output_type'] = 'display_data';\n",
              "          await google.colab.output.renderOutput(dataTable, element);\n",
              "          const docLink = document.createElement('div');\n",
              "          docLink.innerHTML = docLinkHtml;\n",
              "          element.appendChild(docLink);\n",
              "        }\n",
              "      </script>\n",
              "    </div>\n",
              "  </div>\n",
              "  "
            ]
          },
          "metadata": {},
          "execution_count": 44
        }
      ]
    },
    {
      "cell_type": "markdown",
      "source": [
        "### Abweichung gesamt"
      ],
      "metadata": {
        "id": "-nv_foJ8XUbz"
      }
    },
    {
      "cell_type": "code",
      "source": [
        "sum_pred_time = reduced_df['pred'].sum()\n",
        "sum_pred_time"
      ],
      "metadata": {
        "id": "bpelpPcVW0cc",
        "outputId": "270c88eb-c9a3-41e2-c54b-5ad7c5ff99de",
        "colab": {
          "base_uri": "https://localhost:8080/"
        }
      },
      "execution_count": null,
      "outputs": [
        {
          "output_type": "execute_result",
          "data": {
            "text/plain": [
              "184.74118209660986"
            ]
          },
          "metadata": {},
          "execution_count": 45
        }
      ]
    },
    {
      "cell_type": "code",
      "source": [
        "sum_time = reduced_df['cut_time'].sum()\n",
        "sum_time"
      ],
      "metadata": {
        "id": "jM_wxwxFW58l",
        "outputId": "8c48a7b7-ffda-4dc9-f459-e23a0c6f6ec5",
        "colab": {
          "base_uri": "https://localhost:8080/"
        }
      },
      "execution_count": null,
      "outputs": [
        {
          "output_type": "execute_result",
          "data": {
            "text/plain": [
              "183.33599999999998"
            ]
          },
          "metadata": {},
          "execution_count": 46
        }
      ]
    },
    {
      "cell_type": "code",
      "source": [
        "# Differenz\n",
        "diff = ((sum_time - sum_pred_time)/ sum_pred_time) * 100\n",
        "diff"
      ],
      "metadata": {
        "id": "aGqiwmltW8i0",
        "outputId": "8f0a583a-4862-40ac-81e4-3bb759282589",
        "colab": {
          "base_uri": "https://localhost:8080/"
        }
      },
      "execution_count": null,
      "outputs": [
        {
          "output_type": "execute_result",
          "data": {
            "text/plain": [
              "-0.7606220121916517"
            ]
          },
          "metadata": {},
          "execution_count": 47
        }
      ]
    },
    {
      "cell_type": "markdown",
      "source": [
        "### Abweichung pro JobID"
      ],
      "metadata": {
        "id": "A3lSdnHoXePX"
      }
    },
    {
      "cell_type": "code",
      "source": [
        "def calc_own_diff(df_comp):\n",
        "\n",
        "  diff_list = []\n",
        "  list_cut_time = []\n",
        "  list_cutting = []\n",
        "\n",
        "  for index, row in df_comp.iterrows():\n",
        "    list_cut_time.append(row['cut_time'])\n",
        "    list_cutting.append(row['pred'])\n",
        "\n",
        "    diff = (abs((row['cut_time'] - row['pred'])) / row['pred']) \n",
        "    diff_list.append(diff)\n",
        "  # print(list_cut_time)\n",
        "  # print(list_cutting)\n",
        "  # print(diff_list)\n",
        "  print((sum(diff_list) / len(diff_list))*100)\n",
        "  return diff_list"
      ],
      "metadata": {
        "id": "wcZsS1z3X050"
      },
      "execution_count": null,
      "outputs": []
    },
    {
      "cell_type": "code",
      "source": [
        "pred_diff = calc_own_diff(df_comp=reduced_df)"
      ],
      "metadata": {
        "outputId": "6ea334a9-d1b8-4edc-8c86-baee5af3c986",
        "colab": {
          "base_uri": "https://localhost:8080/"
        },
        "id": "CzJ0m49aX050"
      },
      "execution_count": null,
      "outputs": [
        {
          "output_type": "stream",
          "name": "stdout",
          "text": [
            "30.846891575009305\n"
          ]
        }
      ]
    },
    {
      "cell_type": "markdown",
      "source": [
        "# 4.6 Further Models (eingefügt aus 02_Matrix)"
      ],
      "metadata": {
        "id": "8SohawIWnjEP"
      }
    },
    {
      "cell_type": "markdown",
      "source": [
        "## ExtraTreesRegressor"
      ],
      "metadata": {
        "id": "vayvqBOCn9jn"
      }
    },
    {
      "cell_type": "code",
      "source": [
        "from sklearn.ensemble import ExtraTreesRegressor\n",
        "reg = ExtraTreesRegressor(n_estimators=100, random_state=42).fit(X_train, y_train)\n",
        "etr_pred = reg.predict(X_test)\n",
        "reg.score(X_test, y_test)"
      ],
      "metadata": {
        "id": "gc9acQDBnW9r",
        "outputId": "78c53b5a-d30f-4a0b-93cf-023425e11122",
        "colab": {
          "base_uri": "https://localhost:8080/"
        }
      },
      "execution_count": null,
      "outputs": [
        {
          "output_type": "execute_result",
          "data": {
            "text/plain": [
              "0.7176850901954079"
            ]
          },
          "metadata": {},
          "execution_count": 50
        }
      ]
    },
    {
      "cell_type": "code",
      "source": [
        "from sklearn import metrics\n",
        "Mae = metrics.mean_absolute_error(y_test, etr_pred)\n",
        "print('MAE', metrics.mean_absolute_error(y_test, etr_pred))\n",
        "print('MSE', metrics.mean_squared_error(y_test, etr_pred))\n",
        "import numpy as np\n",
        "print('RMSE', np.sqrt(metrics.mean_squared_error(y_test, etr_pred)))\n",
        "from sklearn.metrics import r2_score\n",
        "print('R-Squared Score', r2_score(y_test,etr_pred))"
      ],
      "metadata": {
        "id": "89QnSV3UoYPa",
        "outputId": "39cf9373-35ee-4872-9015-f8a7322196c3",
        "colab": {
          "base_uri": "https://localhost:8080/"
        }
      },
      "execution_count": null,
      "outputs": [
        {
          "output_type": "stream",
          "name": "stdout",
          "text": [
            "MAE 0.05887506111602692\n",
            "MSE 0.010573373276922671\n",
            "RMSE 0.10282690930356057\n",
            "R-Squared Score 0.7176850901954079\n"
          ]
        }
      ]
    },
    {
      "cell_type": "code",
      "source": [
        "reduced_df.head(10)"
      ],
      "metadata": {
        "id": "igc2Se2Bov8O",
        "outputId": "739a48e6-f905-4dc7-d593-563200c3b7d9",
        "colab": {
          "base_uri": "https://localhost:8080/",
          "height": 363
        }
      },
      "execution_count": null,
      "outputs": [
        {
          "output_type": "execute_result",
          "data": {
            "text/plain": [
              "         JobID  num_flyer  layer  cuts  cut_time      pred\n",
              "0   6665075005          1    1.0   5.0    0.0704  0.074729\n",
              "1   6665075003          4    1.0   5.0    0.0509  0.050900\n",
              "5   6665075001          1    1.0   5.0    0.0364  0.074729\n",
              "6   6665075006          1    1.0   7.0    0.0998  0.085840\n",
              "7   6665075004          1    1.0   5.0    0.1036  0.074729\n",
              "8   6665075002          1    1.0   8.0    0.2667  0.072000\n",
              "9   6667581806          2    6.0  31.0    0.5700  0.401400\n",
              "11  6668866001          4    1.0   7.0    0.1089  0.090250\n",
              "15  6666900306          4    1.0   7.0    0.0981  0.090250\n",
              "19  6667581809          4    1.0   7.0    0.2587  0.090250"
            ],
            "text/html": [
              "\n",
              "  <div id=\"df-86ed18a3-608d-448b-b62c-618a9695859a\">\n",
              "    <div class=\"colab-df-container\">\n",
              "      <div>\n",
              "<style scoped>\n",
              "    .dataframe tbody tr th:only-of-type {\n",
              "        vertical-align: middle;\n",
              "    }\n",
              "\n",
              "    .dataframe tbody tr th {\n",
              "        vertical-align: top;\n",
              "    }\n",
              "\n",
              "    .dataframe thead th {\n",
              "        text-align: right;\n",
              "    }\n",
              "</style>\n",
              "<table border=\"1\" class=\"dataframe\">\n",
              "  <thead>\n",
              "    <tr style=\"text-align: right;\">\n",
              "      <th></th>\n",
              "      <th>JobID</th>\n",
              "      <th>num_flyer</th>\n",
              "      <th>layer</th>\n",
              "      <th>cuts</th>\n",
              "      <th>cut_time</th>\n",
              "      <th>pred</th>\n",
              "    </tr>\n",
              "  </thead>\n",
              "  <tbody>\n",
              "    <tr>\n",
              "      <th>0</th>\n",
              "      <td>6665075005</td>\n",
              "      <td>1</td>\n",
              "      <td>1.0</td>\n",
              "      <td>5.0</td>\n",
              "      <td>0.0704</td>\n",
              "      <td>0.074729</td>\n",
              "    </tr>\n",
              "    <tr>\n",
              "      <th>1</th>\n",
              "      <td>6665075003</td>\n",
              "      <td>4</td>\n",
              "      <td>1.0</td>\n",
              "      <td>5.0</td>\n",
              "      <td>0.0509</td>\n",
              "      <td>0.050900</td>\n",
              "    </tr>\n",
              "    <tr>\n",
              "      <th>5</th>\n",
              "      <td>6665075001</td>\n",
              "      <td>1</td>\n",
              "      <td>1.0</td>\n",
              "      <td>5.0</td>\n",
              "      <td>0.0364</td>\n",
              "      <td>0.074729</td>\n",
              "    </tr>\n",
              "    <tr>\n",
              "      <th>6</th>\n",
              "      <td>6665075006</td>\n",
              "      <td>1</td>\n",
              "      <td>1.0</td>\n",
              "      <td>7.0</td>\n",
              "      <td>0.0998</td>\n",
              "      <td>0.085840</td>\n",
              "    </tr>\n",
              "    <tr>\n",
              "      <th>7</th>\n",
              "      <td>6665075004</td>\n",
              "      <td>1</td>\n",
              "      <td>1.0</td>\n",
              "      <td>5.0</td>\n",
              "      <td>0.1036</td>\n",
              "      <td>0.074729</td>\n",
              "    </tr>\n",
              "    <tr>\n",
              "      <th>8</th>\n",
              "      <td>6665075002</td>\n",
              "      <td>1</td>\n",
              "      <td>1.0</td>\n",
              "      <td>8.0</td>\n",
              "      <td>0.2667</td>\n",
              "      <td>0.072000</td>\n",
              "    </tr>\n",
              "    <tr>\n",
              "      <th>9</th>\n",
              "      <td>6667581806</td>\n",
              "      <td>2</td>\n",
              "      <td>6.0</td>\n",
              "      <td>31.0</td>\n",
              "      <td>0.5700</td>\n",
              "      <td>0.401400</td>\n",
              "    </tr>\n",
              "    <tr>\n",
              "      <th>11</th>\n",
              "      <td>6668866001</td>\n",
              "      <td>4</td>\n",
              "      <td>1.0</td>\n",
              "      <td>7.0</td>\n",
              "      <td>0.1089</td>\n",
              "      <td>0.090250</td>\n",
              "    </tr>\n",
              "    <tr>\n",
              "      <th>15</th>\n",
              "      <td>6666900306</td>\n",
              "      <td>4</td>\n",
              "      <td>1.0</td>\n",
              "      <td>7.0</td>\n",
              "      <td>0.0981</td>\n",
              "      <td>0.090250</td>\n",
              "    </tr>\n",
              "    <tr>\n",
              "      <th>19</th>\n",
              "      <td>6667581809</td>\n",
              "      <td>4</td>\n",
              "      <td>1.0</td>\n",
              "      <td>7.0</td>\n",
              "      <td>0.2587</td>\n",
              "      <td>0.090250</td>\n",
              "    </tr>\n",
              "  </tbody>\n",
              "</table>\n",
              "</div>\n",
              "      <button class=\"colab-df-convert\" onclick=\"convertToInteractive('df-86ed18a3-608d-448b-b62c-618a9695859a')\"\n",
              "              title=\"Convert this dataframe to an interactive table.\"\n",
              "              style=\"display:none;\">\n",
              "        \n",
              "  <svg xmlns=\"http://www.w3.org/2000/svg\" height=\"24px\"viewBox=\"0 0 24 24\"\n",
              "       width=\"24px\">\n",
              "    <path d=\"M0 0h24v24H0V0z\" fill=\"none\"/>\n",
              "    <path d=\"M18.56 5.44l.94 2.06.94-2.06 2.06-.94-2.06-.94-.94-2.06-.94 2.06-2.06.94zm-11 1L8.5 8.5l.94-2.06 2.06-.94-2.06-.94L8.5 2.5l-.94 2.06-2.06.94zm10 10l.94 2.06.94-2.06 2.06-.94-2.06-.94-.94-2.06-.94 2.06-2.06.94z\"/><path d=\"M17.41 7.96l-1.37-1.37c-.4-.4-.92-.59-1.43-.59-.52 0-1.04.2-1.43.59L10.3 9.45l-7.72 7.72c-.78.78-.78 2.05 0 2.83L4 21.41c.39.39.9.59 1.41.59.51 0 1.02-.2 1.41-.59l7.78-7.78 2.81-2.81c.8-.78.8-2.07 0-2.86zM5.41 20L4 18.59l7.72-7.72 1.47 1.35L5.41 20z\"/>\n",
              "  </svg>\n",
              "      </button>\n",
              "      \n",
              "  <style>\n",
              "    .colab-df-container {\n",
              "      display:flex;\n",
              "      flex-wrap:wrap;\n",
              "      gap: 12px;\n",
              "    }\n",
              "\n",
              "    .colab-df-convert {\n",
              "      background-color: #E8F0FE;\n",
              "      border: none;\n",
              "      border-radius: 50%;\n",
              "      cursor: pointer;\n",
              "      display: none;\n",
              "      fill: #1967D2;\n",
              "      height: 32px;\n",
              "      padding: 0 0 0 0;\n",
              "      width: 32px;\n",
              "    }\n",
              "\n",
              "    .colab-df-convert:hover {\n",
              "      background-color: #E2EBFA;\n",
              "      box-shadow: 0px 1px 2px rgba(60, 64, 67, 0.3), 0px 1px 3px 1px rgba(60, 64, 67, 0.15);\n",
              "      fill: #174EA6;\n",
              "    }\n",
              "\n",
              "    [theme=dark] .colab-df-convert {\n",
              "      background-color: #3B4455;\n",
              "      fill: #D2E3FC;\n",
              "    }\n",
              "\n",
              "    [theme=dark] .colab-df-convert:hover {\n",
              "      background-color: #434B5C;\n",
              "      box-shadow: 0px 1px 3px 1px rgba(0, 0, 0, 0.15);\n",
              "      filter: drop-shadow(0px 1px 2px rgba(0, 0, 0, 0.3));\n",
              "      fill: #FFFFFF;\n",
              "    }\n",
              "  </style>\n",
              "\n",
              "      <script>\n",
              "        const buttonEl =\n",
              "          document.querySelector('#df-86ed18a3-608d-448b-b62c-618a9695859a button.colab-df-convert');\n",
              "        buttonEl.style.display =\n",
              "          google.colab.kernel.accessAllowed ? 'block' : 'none';\n",
              "\n",
              "        async function convertToInteractive(key) {\n",
              "          const element = document.querySelector('#df-86ed18a3-608d-448b-b62c-618a9695859a');\n",
              "          const dataTable =\n",
              "            await google.colab.kernel.invokeFunction('convertToInteractive',\n",
              "                                                     [key], {});\n",
              "          if (!dataTable) return;\n",
              "\n",
              "          const docLinkHtml = 'Like what you see? Visit the ' +\n",
              "            '<a target=\"_blank\" href=https://colab.research.google.com/notebooks/data_table.ipynb>data table notebook</a>'\n",
              "            + ' to learn more about interactive tables.';\n",
              "          element.innerHTML = '';\n",
              "          dataTable['output_type'] = 'display_data';\n",
              "          await google.colab.output.renderOutput(dataTable, element);\n",
              "          const docLink = document.createElement('div');\n",
              "          docLink.innerHTML = docLinkHtml;\n",
              "          element.appendChild(docLink);\n",
              "        }\n",
              "      </script>\n",
              "    </div>\n",
              "  </div>\n",
              "  "
            ]
          },
          "metadata": {},
          "execution_count": 52
        }
      ]
    },
    {
      "cell_type": "code",
      "source": [
        "X[1]"
      ],
      "metadata": {
        "id": "i3W6HFZyycUf"
      },
      "execution_count": null,
      "outputs": []
    },
    {
      "cell_type": "code",
      "source": [
        "print(reg.predict([[28.346457,\t2466.141732,\t8.503937,\t1741.889764,\t2494.488189,\t1785.826772,\t7.086614,\t0.000000,\t0.000000,\t7.086614,\t5.0,\t1.0,\t5.0,\t2437.795276,\t1733.385827,\t1\t]]))"
      ],
      "metadata": {
        "id": "o_5WRYInoT8Q",
        "outputId": "d040b537-1790-41d8-baa2-7d6e3e493ad0",
        "colab": {
          "base_uri": "https://localhost:8080/",
          "height": 346
        }
      },
      "execution_count": null,
      "outputs": [
        {
          "output_type": "error",
          "ename": "ValueError",
          "evalue": "ignored",
          "traceback": [
            "\u001b[0;31m---------------------------------------------------------------------------\u001b[0m",
            "\u001b[0;31mValueError\u001b[0m                                Traceback (most recent call last)",
            "\u001b[0;32m<ipython-input-53-56ee0d268071>\u001b[0m in \u001b[0;36m<module>\u001b[0;34m()\u001b[0m\n\u001b[0;32m----> 1\u001b[0;31m \u001b[0mprint\u001b[0m\u001b[0;34m(\u001b[0m\u001b[0mreg\u001b[0m\u001b[0;34m.\u001b[0m\u001b[0mpredict\u001b[0m\u001b[0;34m(\u001b[0m\u001b[0;34m[\u001b[0m\u001b[0;34m[\u001b[0m\u001b[0;36m28.346457\u001b[0m\u001b[0;34m,\u001b[0m  \u001b[0;36m2466.141732\u001b[0m\u001b[0;34m,\u001b[0m    \u001b[0;36m8.503937\u001b[0m\u001b[0;34m,\u001b[0m       \u001b[0;36m1741.889764\u001b[0m\u001b[0;34m,\u001b[0m    \u001b[0;36m2494.488189\u001b[0m\u001b[0;34m,\u001b[0m    \u001b[0;36m1785.826772\u001b[0m\u001b[0;34m,\u001b[0m    \u001b[0;36m7.086614\u001b[0m\u001b[0;34m,\u001b[0m       \u001b[0;36m0.000000\u001b[0m\u001b[0;34m,\u001b[0m       \u001b[0;36m0.000000\u001b[0m\u001b[0;34m,\u001b[0m       \u001b[0;36m7.086614\u001b[0m\u001b[0;34m,\u001b[0m       \u001b[0;36m5.0\u001b[0m\u001b[0;34m,\u001b[0m    \u001b[0;36m1.0\u001b[0m\u001b[0;34m,\u001b[0m    \u001b[0;36m5.0\u001b[0m\u001b[0;34m,\u001b[0m    \u001b[0;36m2437.795276\u001b[0m\u001b[0;34m,\u001b[0m    \u001b[0;36m1733.385827\u001b[0m\u001b[0;34m,\u001b[0m    \u001b[0;36m1\u001b[0m       \u001b[0;34m]\u001b[0m\u001b[0;34m]\u001b[0m\u001b[0;34m)\u001b[0m\u001b[0;34m)\u001b[0m\u001b[0;34m\u001b[0m\u001b[0;34m\u001b[0m\u001b[0m\n\u001b[0m",
            "\u001b[0;32m/usr/local/lib/python3.7/dist-packages/sklearn/ensemble/_forest.py\u001b[0m in \u001b[0;36mpredict\u001b[0;34m(self, X)\u001b[0m\n\u001b[1;32m    969\u001b[0m         \u001b[0mcheck_is_fitted\u001b[0m\u001b[0;34m(\u001b[0m\u001b[0mself\u001b[0m\u001b[0;34m)\u001b[0m\u001b[0;34m\u001b[0m\u001b[0;34m\u001b[0m\u001b[0m\n\u001b[1;32m    970\u001b[0m         \u001b[0;31m# Check data\u001b[0m\u001b[0;34m\u001b[0m\u001b[0;34m\u001b[0m\u001b[0;34m\u001b[0m\u001b[0m\n\u001b[0;32m--> 971\u001b[0;31m         \u001b[0mX\u001b[0m \u001b[0;34m=\u001b[0m \u001b[0mself\u001b[0m\u001b[0;34m.\u001b[0m\u001b[0m_validate_X_predict\u001b[0m\u001b[0;34m(\u001b[0m\u001b[0mX\u001b[0m\u001b[0;34m)\u001b[0m\u001b[0;34m\u001b[0m\u001b[0;34m\u001b[0m\u001b[0m\n\u001b[0m\u001b[1;32m    972\u001b[0m \u001b[0;34m\u001b[0m\u001b[0m\n\u001b[1;32m    973\u001b[0m         \u001b[0;31m# Assign chunk of trees to jobs\u001b[0m\u001b[0;34m\u001b[0m\u001b[0;34m\u001b[0m\u001b[0;34m\u001b[0m\u001b[0m\n",
            "\u001b[0;32m/usr/local/lib/python3.7/dist-packages/sklearn/ensemble/_forest.py\u001b[0m in \u001b[0;36m_validate_X_predict\u001b[0;34m(self, X)\u001b[0m\n\u001b[1;32m    577\u001b[0m         Validate X whenever one tries to predict, apply, predict_proba.\"\"\"\n\u001b[1;32m    578\u001b[0m         \u001b[0mcheck_is_fitted\u001b[0m\u001b[0;34m(\u001b[0m\u001b[0mself\u001b[0m\u001b[0;34m)\u001b[0m\u001b[0;34m\u001b[0m\u001b[0;34m\u001b[0m\u001b[0m\n\u001b[0;32m--> 579\u001b[0;31m         \u001b[0mX\u001b[0m \u001b[0;34m=\u001b[0m \u001b[0mself\u001b[0m\u001b[0;34m.\u001b[0m\u001b[0m_validate_data\u001b[0m\u001b[0;34m(\u001b[0m\u001b[0mX\u001b[0m\u001b[0;34m,\u001b[0m \u001b[0mdtype\u001b[0m\u001b[0;34m=\u001b[0m\u001b[0mDTYPE\u001b[0m\u001b[0;34m,\u001b[0m \u001b[0maccept_sparse\u001b[0m\u001b[0;34m=\u001b[0m\u001b[0;34m\"csr\"\u001b[0m\u001b[0;34m,\u001b[0m \u001b[0mreset\u001b[0m\u001b[0;34m=\u001b[0m\u001b[0;32mFalse\u001b[0m\u001b[0;34m)\u001b[0m\u001b[0;34m\u001b[0m\u001b[0;34m\u001b[0m\u001b[0m\n\u001b[0m\u001b[1;32m    580\u001b[0m         \u001b[0;32mif\u001b[0m \u001b[0missparse\u001b[0m\u001b[0;34m(\u001b[0m\u001b[0mX\u001b[0m\u001b[0;34m)\u001b[0m \u001b[0;32mand\u001b[0m \u001b[0;34m(\u001b[0m\u001b[0mX\u001b[0m\u001b[0;34m.\u001b[0m\u001b[0mindices\u001b[0m\u001b[0;34m.\u001b[0m\u001b[0mdtype\u001b[0m \u001b[0;34m!=\u001b[0m \u001b[0mnp\u001b[0m\u001b[0;34m.\u001b[0m\u001b[0mintc\u001b[0m \u001b[0;32mor\u001b[0m \u001b[0mX\u001b[0m\u001b[0;34m.\u001b[0m\u001b[0mindptr\u001b[0m\u001b[0;34m.\u001b[0m\u001b[0mdtype\u001b[0m \u001b[0;34m!=\u001b[0m \u001b[0mnp\u001b[0m\u001b[0;34m.\u001b[0m\u001b[0mintc\u001b[0m\u001b[0;34m)\u001b[0m\u001b[0;34m:\u001b[0m\u001b[0;34m\u001b[0m\u001b[0;34m\u001b[0m\u001b[0m\n\u001b[1;32m    581\u001b[0m             \u001b[0;32mraise\u001b[0m \u001b[0mValueError\u001b[0m\u001b[0;34m(\u001b[0m\u001b[0;34m\"No support for np.int64 index based sparse matrices\"\u001b[0m\u001b[0;34m)\u001b[0m\u001b[0;34m\u001b[0m\u001b[0;34m\u001b[0m\u001b[0m\n",
            "\u001b[0;32m/usr/local/lib/python3.7/dist-packages/sklearn/base.py\u001b[0m in \u001b[0;36m_validate_data\u001b[0;34m(self, X, y, reset, validate_separately, **check_params)\u001b[0m\n\u001b[1;32m    583\u001b[0m \u001b[0;34m\u001b[0m\u001b[0m\n\u001b[1;32m    584\u001b[0m         \u001b[0;32mif\u001b[0m \u001b[0;32mnot\u001b[0m \u001b[0mno_val_X\u001b[0m \u001b[0;32mand\u001b[0m \u001b[0mcheck_params\u001b[0m\u001b[0;34m.\u001b[0m\u001b[0mget\u001b[0m\u001b[0;34m(\u001b[0m\u001b[0;34m\"ensure_2d\"\u001b[0m\u001b[0;34m,\u001b[0m \u001b[0;32mTrue\u001b[0m\u001b[0;34m)\u001b[0m\u001b[0;34m:\u001b[0m\u001b[0;34m\u001b[0m\u001b[0;34m\u001b[0m\u001b[0m\n\u001b[0;32m--> 585\u001b[0;31m             \u001b[0mself\u001b[0m\u001b[0;34m.\u001b[0m\u001b[0m_check_n_features\u001b[0m\u001b[0;34m(\u001b[0m\u001b[0mX\u001b[0m\u001b[0;34m,\u001b[0m \u001b[0mreset\u001b[0m\u001b[0;34m=\u001b[0m\u001b[0mreset\u001b[0m\u001b[0;34m)\u001b[0m\u001b[0;34m\u001b[0m\u001b[0;34m\u001b[0m\u001b[0m\n\u001b[0m\u001b[1;32m    586\u001b[0m \u001b[0;34m\u001b[0m\u001b[0m\n\u001b[1;32m    587\u001b[0m         \u001b[0;32mreturn\u001b[0m \u001b[0mout\u001b[0m\u001b[0;34m\u001b[0m\u001b[0;34m\u001b[0m\u001b[0m\n",
            "\u001b[0;32m/usr/local/lib/python3.7/dist-packages/sklearn/base.py\u001b[0m in \u001b[0;36m_check_n_features\u001b[0;34m(self, X, reset)\u001b[0m\n\u001b[1;32m    399\u001b[0m         \u001b[0;32mif\u001b[0m \u001b[0mn_features\u001b[0m \u001b[0;34m!=\u001b[0m \u001b[0mself\u001b[0m\u001b[0;34m.\u001b[0m\u001b[0mn_features_in_\u001b[0m\u001b[0;34m:\u001b[0m\u001b[0;34m\u001b[0m\u001b[0;34m\u001b[0m\u001b[0m\n\u001b[1;32m    400\u001b[0m             raise ValueError(\n\u001b[0;32m--> 401\u001b[0;31m                 \u001b[0;34mf\"X has {n_features} features, but {self.__class__.__name__} \"\u001b[0m\u001b[0;34m\u001b[0m\u001b[0;34m\u001b[0m\u001b[0m\n\u001b[0m\u001b[1;32m    402\u001b[0m                 \u001b[0;34mf\"is expecting {self.n_features_in_} features as input.\"\u001b[0m\u001b[0;34m\u001b[0m\u001b[0;34m\u001b[0m\u001b[0m\n\u001b[1;32m    403\u001b[0m             )\n",
            "\u001b[0;31mValueError\u001b[0m: X has 16 features, but ExtraTreesRegressor is expecting 3 features as input."
          ]
        }
      ]
    },
    {
      "cell_type": "code",
      "source": [
        "print(reg.predict([[39.685039,\t1250.078740,\t890.078740,\t1751.811024,\t2494.488189,\t1785.826772,\t2.834646,\t2.834646,\t2.834646,\t2.834646,\t7.0,\t1.0,\t7.0,\t1210.393701,\t861.732284,\t4]]))"
      ],
      "metadata": {
        "id": "jpS_fId0rIBF"
      },
      "execution_count": null,
      "outputs": []
    },
    {
      "cell_type": "markdown",
      "source": [
        "## RidgeRegression"
      ],
      "metadata": {
        "id": "jeazr0xQpsKB"
      }
    },
    {
      "cell_type": "code",
      "source": [
        "from sklearn.linear_model import Ridge\n",
        "import numpy as np\n",
        "rng = np.random.RandomState(42)\n",
        "clf = Ridge(alpha=1.0)\n",
        "clf.fit(X, y)\n",
        "clf_pred = clf.predict(X_test)\n",
        "Ridge()\n",
        "clf.score(X_test, y_test)"
      ],
      "metadata": {
        "id": "c6E8dtD-o_SD"
      },
      "execution_count": null,
      "outputs": []
    },
    {
      "cell_type": "code",
      "source": [
        "from sklearn import metrics\n",
        "Mae = metrics.mean_absolute_error(y_test, clf_pred)\n",
        "print('MAE', metrics.mean_absolute_error(y_test, clf_pred))\n",
        "print('MSE', metrics.mean_squared_error(y_test, clf_pred))\n",
        "import numpy as np\n",
        "print('RMSE', np.sqrt(metrics.mean_squared_error(y_test, clf_pred)))\n",
        "from sklearn.metrics import r2_score\n",
        "print('R-Squared Score', r2_score(y_test,clf_pred))"
      ],
      "metadata": {
        "id": "On1sPhZJpvKB"
      },
      "execution_count": null,
      "outputs": []
    },
    {
      "cell_type": "code",
      "source": [
        "print(clf.predict([[2466.141732, 28.346457, 1741.889764, 8.503937, 2437.795276, 1733.385827, 1, 1, 5]]))"
      ],
      "metadata": {
        "id": "YMgp8tBRqICM"
      },
      "execution_count": null,
      "outputs": []
    },
    {
      "cell_type": "code",
      "source": [
        "print(clf.predict([[1250.078740, 39.685039, 1751.811024, 890.078740, 2437.795276, 1210.393701, 4, 1, 7]]))"
      ],
      "metadata": {
        "id": "a2uTZ95FqMw7"
      },
      "execution_count": null,
      "outputs": []
    },
    {
      "cell_type": "markdown",
      "source": [
        "## Train & Test Data"
      ],
      "metadata": {
        "id": "RYoQqWeBmTNy"
      }
    },
    {
      "cell_type": "code",
      "source": [
        "# Relevant Columns for predicition\n",
        "reduced_df = df[['JobID', 'x_left', \t'x_right',\t'y_bot',\t'y_top',\t'x_sheetsize',\t'y_sheetsize', 'MarBot',\t'MarLeft',\t'MarRight',\t'MarTop',\t\t'cuts',\t'layer',\t'cut_layer',\t'width',\t'height', 'num_flyer', 'cut_time']]"
      ],
      "metadata": {
        "id": "9cL8ffxGmF1M"
      },
      "execution_count": null,
      "outputs": []
    },
    {
      "cell_type": "code",
      "source": [
        "reduced_df.shape"
      ],
      "metadata": {
        "id": "o3Crb7-vxn7M"
      },
      "execution_count": null,
      "outputs": []
    },
    {
      "cell_type": "code",
      "source": [
        "array = reduced_df.values\n",
        "X = array[:,1:17]\n",
        "y = array[:,17]\n",
        "y"
      ],
      "metadata": {
        "id": "O9uG6EVZnDoK"
      },
      "execution_count": null,
      "outputs": []
    },
    {
      "cell_type": "code",
      "source": [
        "X[1]"
      ],
      "metadata": {
        "id": "DV-0FUZByGFd"
      },
      "execution_count": null,
      "outputs": []
    },
    {
      "cell_type": "markdown",
      "source": [
        "Time per Cut vs. ExtraTress"
      ],
      "metadata": {
        "id": "DIcQftAWJUsU"
      }
    },
    {
      "cell_type": "code",
      "source": [
        "reduced_df = df[['JobID', 'x_right', 'x_left', 'y_bot', 'y_top', 'width', 'height', 'num_flyer', 'layer', 'cut_layer', 'cut_time']]\n",
        "array = reduced_df.values\n",
        "X = array[:,1:10]\n",
        "y = array[:,10]"
      ],
      "metadata": {
        "id": "_H-jooCQJdvd"
      },
      "execution_count": null,
      "outputs": []
    },
    {
      "cell_type": "code",
      "source": [
        "from sklearn.model_selection import train_test_split\n",
        "X_train, X_test, y_train, y_test = train_test_split(X, y, random_state=42)\n",
        "from sklearn.ensemble import ExtraTreesRegressor\n",
        "reg = ExtraTreesRegressor(n_estimators=100, random_state=42).fit(X_train, y_train)\n",
        "etr_pred = reg.predict(X_test)\n",
        "print('score',reg.score(X_test, y_test))\n",
        "from sklearn import metrics\n",
        "Mae = metrics.mean_absolute_error(y_test, etr_pred)\n",
        "print('MAE', metrics.mean_absolute_error(y_test, etr_pred))\n",
        "print('MSE', metrics.mean_squared_error(y_test, etr_pred))\n",
        "import numpy as np\n",
        "print('RMSE', np.sqrt(metrics.mean_squared_error(y_test, etr_pred)))\n",
        "from sklearn.metrics import r2_score\n",
        "print('R-Squared Score', r2_score(y_test,etr_pred))"
      ],
      "metadata": {
        "id": "64Hkcf4bJVBO"
      },
      "execution_count": null,
      "outputs": []
    },
    {
      "cell_type": "code",
      "source": [
        "print(reg.predict([[1247.244094,\t2466.141732,\t8.503937,\t1765.984252,1218.897638,\t1757.480315, 2, 1, 6]]))"
      ],
      "metadata": {
        "id": "VKsHw2boJosC"
      },
      "execution_count": null,
      "outputs": []
    }
  ]
}